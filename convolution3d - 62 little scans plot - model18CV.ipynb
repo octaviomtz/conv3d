{
 "cells": [
  {
   "cell_type": "code",
   "execution_count": 1,
   "metadata": {
    "collapsed": false
   },
   "outputs": [],
   "source": [
    "import scipy.io\n",
    "import numpy as np, h5py\n",
    "import matplotlib.pyplot as plt\n",
    "import copy\n",
    "import pickle\n",
    "%matplotlib inline"
   ]
  },
  {
   "cell_type": "code",
   "execution_count": 7,
   "metadata": {
    "collapsed": true
   },
   "outputs": [],
   "source": [
    "from pylab import rcParams\n",
    "rcParams['figure.figsize'] = 10, 5\n",
    "rcParams['figure.dpi']=150\n",
    "rcParams['lines.linewidth']=1\n",
    "rcParams['axes.grid']=True\n",
    "rcParams['axes.facecolor']='#FFFFFF'\n",
    "rcParams['font.size']=14\n",
    "rcParams['patch.edgecolor']='none'"
   ]
  },
  {
   "cell_type": "code",
   "execution_count": 2,
   "metadata": {
    "collapsed": true
   },
   "outputs": [],
   "source": [
    "# fix random seed for reproducibility\n",
    "seed = 8\n",
    "np.random.seed(seed)"
   ]
  },
  {
   "cell_type": "code",
   "execution_count": 3,
   "metadata": {
    "collapsed": true
   },
   "outputs": [],
   "source": [
    "def readScan(scan):\n",
    "    # We read the file saved in Matlab. There is only one variable in the file called scansMini\n",
    "    data = h5py.File(scan, 'r')\n",
    "    Xscans=data.get('scansMini')\n",
    "    # We have to get the values into the right format (subjects, dim1, dim2, dim3, channels)\n",
    "    X=copy.copy(Xscans.value)\n",
    "    X=np.expand_dims(X,4)\n",
    "    X1=np.rollaxis(X,3)\n",
    "    return X1"
   ]
  },
  {
   "cell_type": "code",
   "execution_count": 4,
   "metadata": {
    "collapsed": true
   },
   "outputs": [],
   "source": [
    "X1=readScan('models2/scansMini1.mat')\n",
    "X2=readScan('models2/scansMini2.mat')\n",
    "X3=readScan('models2/scansMini3.mat')\n",
    "X4=readScan('models2/scansMini4.mat')\n",
    "X5=readScan('models2/scansMini5.mat')"
   ]
  },
  {
   "cell_type": "code",
   "execution_count": 8,
   "metadata": {
    "collapsed": false
   },
   "outputs": [
    {
     "data": {
      "text/plain": [
       "<matplotlib.collections.PolyCollection at 0x7efcc3cb1bd0>"
      ]
     },
     "execution_count": 8,
     "metadata": {},
     "output_type": "execute_result"
    },
    {
     "data": {
      "image/png": "[encoded data removed]",
      "text/plain": [
       "<matplotlib.figure.Figure at 0x7efcc3d54e50>"
      ]
     },
     "metadata": {},
     "output_type": "display_data"
    }
   ],
   "source": [
    "f, (ax1, ax2) = plt.subplots(1, 2, sharey=True)\n",
    "ax1.pcolor((X1[10,:,:,0,0]))\n",
    "ax1.set_title('Sharing Y axis')\n",
    "ax2.pcolor((X2[10,:,:,0,0]))"
   ]
  },
  {
   "cell_type": "code",
   "execution_count": 9,
   "metadata": {
    "collapsed": false
   },
   "outputs": [
    {
     "data": {
      "text/plain": [
       "<matplotlib.collections.PolyCollection at 0x7efcc6814110>"
      ]
     },
     "execution_count": 9,
     "metadata": {},
     "output_type": "execute_result"
    },
    {
     "data": {
      "image/png": "[encoded data removed]",
      "text/plain": [
       "<matplotlib.figure.Figure at 0x7efcc6799e90>"
      ]
     },
     "metadata": {},
     "output_type": "display_data"
    }
   ],
   "source": [
    "f, (ax1, ax2) = plt.subplots(1, 2, sharey=True)\n",
    "ax1.pcolor((X3[10,:,:,0,0]))\n",
    "ax1.set_title('Sharing Y axis')\n",
    "ax2.pcolor((X4[10,:,:,0,0]))"
   ]
  },
  {
   "cell_type": "code",
   "execution_count": 10,
   "metadata": {
    "collapsed": false
   },
   "outputs": [],
   "source": [
    "y=np.zeros((np.shape(X1)[0],1))\n",
    "y[:26]=1\n",
    "ysq=np.squeeze(y).astype(int)"
   ]
  },
  {
   "cell_type": "code",
   "execution_count": 11,
   "metadata": {
    "collapsed": false
   },
   "outputs": [
    {
     "name": "stderr",
     "output_type": "stream",
     "text": [
      "Using TensorFlow backend.\n"
     ]
    }
   ],
   "source": [
    "from keras.models import Sequential\n",
    "from keras.layers import Dense\n",
    "from keras.layers.convolutional import Convolution3D\n",
    "from keras.layers.pooling import MaxPooling3D\n",
    "from keras.layers.core import Dense, Flatten\n",
    "from keras.layers import Dropout\n",
    "from keras.wrappers.scikit_learn import KerasClassifier\n",
    "from sklearn.cross_validation import KFold\n",
    "from sklearn.cross_validation import cross_val_score\n",
    "import time"
   ]
  },
  {
   "cell_type": "code",
   "execution_count": 12,
   "metadata": {
    "collapsed": true
   },
   "outputs": [],
   "source": [
    "from keras.layers import Merge"
   ]
  },
  {
   "cell_type": "markdown",
   "metadata": {},
   "source": [
    "---"
   ]
  },
  {
   "cell_type": "code",
   "execution_count": 13,
   "metadata": {
    "collapsed": true
   },
   "outputs": [],
   "source": [
    "from keras.callbacks import EarlyStopping"
   ]
  },
  {
   "cell_type": "code",
   "execution_count": 10,
   "metadata": {
    "collapsed": false
   },
   "outputs": [],
   "source": [
    "from keras.utils.np_utils import to_categorical\n",
    "y_binary = to_categorical(ysq)"
   ]
  },
  {
   "cell_type": "markdown",
   "metadata": {
    "collapsed": true
   },
   "source": [
    "image dimension order according https://www.youtube.com/watch?v=38ASRfA23t0   \n",
    "tf: inputshape=(img_rows, img_cols,img_channels)   \n",
    "theano: inputshape=(img_channels,img_rows, img_cols)"
   ]
  },
  {
   "cell_type": "code",
   "execution_count": 9,
   "metadata": {
    "collapsed": true
   },
   "outputs": [],
   "source": [
    "def baseline_model():\n",
    "    model=Sequential()\n",
    "    model.add(Convolution3D(10, 3, 3, 3, input_shape=(16, 16, 16,1), border_mode='valid', activation='relu'))\n",
    "    model.add(Flatten())\n",
    "    model.add(Dense(100, init='uniform', activation='tanh'))\n",
    "    model.add(Dense(1, init='uniform', activation='tanh'))\n",
    "    # Compile model\n",
    "    model.compile(loss='binary_crossentropy', optimizer='adam', metrics=['accuracy'])\n",
    "    return model"
   ]
  },
  {
   "cell_type": "code",
   "execution_count": 10,
   "metadata": {
    "collapsed": false
   },
   "outputs": [
    {
     "name": "stdout",
     "output_type": "stream",
     "text": [
      "[ 0.5         0.5         0.25        0.5625      0.4375      0.5\n",
      "  0.5714286   0.35714287]\n",
      "0.459821432829\n"
     ]
    }
   ],
   "source": [
    "estimator = KerasClassifier(build_fn=baseline_model, nb_epoch=200, batch_size=10, verbose=0)\n",
    "kfold = KFold(n=len(X), n_folds=8, shuffle=True, random_state=seed)\n",
    "results = cross_val_score(estimator, X, ysq, cv=kfold)\n",
    "print results\n",
    "print results.mean()"
   ]
  },
  {
   "cell_type": "markdown",
   "metadata": {},
   "source": [
    "---"
   ]
  },
  {
   "cell_type": "markdown",
   "metadata": {},
   "source": [
    "---"
   ]
  },
  {
   "cell_type": "markdown",
   "metadata": {},
   "source": [
    "---"
   ]
  },
  {
   "cell_type": "markdown",
   "metadata": {},
   "source": [
    "---"
   ]
  },
  {
   "cell_type": "code",
   "execution_count": 35,
   "metadata": {
    "collapsed": false
   },
   "outputs": [],
   "source": [
    "final_model.reset_states()\n",
    "model1.reset_states()\n",
    "model2.reset_states()\n",
    "model3.reset_states()\n",
    "model4.reset_states()\n",
    "model5.reset_states()"
   ]
  },
  {
   "cell_type": "code",
   "execution_count": 29,
   "metadata": {
    "collapsed": true
   },
   "outputs": [],
   "source": [
    "model1=Sequential()\n",
    "model1.add(Convolution3D(10, 3, 3, 3, input_shape=(16, 16, 16,1), border_mode='valid', activation='relu'))\n",
    "model1.add(Flatten())\n",
    "model1.add(Dense(20, init='glorot_normal', activation='tanh'))"
   ]
  },
  {
   "cell_type": "code",
   "execution_count": 30,
   "metadata": {
    "collapsed": true
   },
   "outputs": [],
   "source": [
    "model2=Sequential()\n",
    "model2.add(Convolution3D(10, 3, 3, 3, input_shape=(16, 16, 16,1), border_mode='valid', activation='relu'))\n",
    "model2.add(Flatten())\n",
    "model2.add(Dense(20, init='glorot_normal', activation='tanh'))"
   ]
  },
  {
   "cell_type": "code",
   "execution_count": 31,
   "metadata": {
    "collapsed": true
   },
   "outputs": [],
   "source": [
    "model3=Sequential()\n",
    "model3.add(Convolution3D(10, 3, 3, 3, input_shape=(16, 16, 16,1), border_mode='valid', activation='relu'))\n",
    "model3.add(Flatten())\n",
    "model3.add(Dense(20, init='glorot_normal', activation='tanh'))"
   ]
  },
  {
   "cell_type": "code",
   "execution_count": 32,
   "metadata": {
    "collapsed": false
   },
   "outputs": [],
   "source": [
    "model4=Sequential()\n",
    "model4.add(Convolution3D(10, 3, 3, 3, input_shape=(16, 16, 16,1), border_mode='valid', activation='relu'))\n",
    "model4.add(Flatten())\n",
    "model4.add(Dense(20, init='glorot_normal', activation='tanh'))"
   ]
  },
  {
   "cell_type": "code",
   "execution_count": 33,
   "metadata": {
    "collapsed": true
   },
   "outputs": [],
   "source": [
    "model5=Sequential()\n",
    "model5.add(Convolution3D(10, 3, 3, 3, input_shape=(16, 16, 16,1), border_mode='valid', activation='relu'))\n",
    "model5.add(Flatten())\n",
    "model5.add(Dense(20, init='glorot_normal', activation='tanh'))"
   ]
  },
  {
   "cell_type": "code",
   "execution_count": 34,
   "metadata": {
    "collapsed": true
   },
   "outputs": [],
   "source": [
    "merged = Merge([model1, model2, model3, model4, model5], mode='concat')\n",
    "final_model = Sequential()\n",
    "final_model.add(merged)\n",
    "final_model.add(Dense(10, init='uniform', activation='tanh'))\n",
    "final_model.add(Dense(1, init='uniform', activation='tanh'))\n",
    "final_model.compile(loss='binary_crossentropy', optimizer='adam', metrics=['accuracy'])"
   ]
  },
  {
   "cell_type": "code",
   "execution_count": 36,
   "metadata": {
    "collapsed": false
   },
   "outputs": [
    {
     "name": "stdout",
     "output_type": "stream",
     "text": [
      "2.34291363723\n"
     ]
    }
   ],
   "source": [
    "# Fit the model\n",
    "t0 = time.time()\n",
    "history=final_model.fit([X1, X2, X3, X4, X5], ysq, validation_split=0.2, nb_epoch=200, batch_size=16,verbose=0)#callbacks=[callbacks]\n",
    "t1 = time.time()\n",
    "print (t1-t0)/60/60"
   ]
  },
  {
   "cell_type": "code",
   "execution_count": 37,
   "metadata": {
    "collapsed": false,
    "scrolled": true
   },
   "outputs": [
    {
     "data": {
      "image/png": "[encoded data removed]",
      "text/plain": [
       "<matplotlib.figure.Figure at 0x7efca7c59290>"
      ]
     },
     "metadata": {},
     "output_type": "display_data"
    },
    {
     "data": {
      "image/png": "[encoded data removed]",
      "text/plain": [
       "<matplotlib.figure.Figure at 0x7efca7c0de50>"
      ]
     },
     "metadata": {},
     "output_type": "display_data"
    }
   ],
   "source": [
    "#draw_neural_net(fig.gca(), .1, .9, .1, .9, [numFeat, 1])\n",
    "#summarize history for accuracy\n",
    "fig=plt.figure()\n",
    "plt.plot(history.history['acc'])\n",
    "plt.plot(history.history['val_acc'])\n",
    "plt.title('model accuracy')\n",
    "plt.ylabel('accuracy')\n",
    "plt.xlabel('epoch')\n",
    "plt.legend(['train','test'], loc='lower right')\n",
    "plt.ylim([0, 1])\n",
    "plt.show()\n",
    "# summarize history for accuracy\n",
    "plt.plot(history.history['loss'])\n",
    "plt.plot(history.history['val_loss'])\n",
    "plt.title('model loss')\n",
    "plt.ylabel('loss')\n",
    "plt.xlabel('epoch')\n",
    "plt.legend(['train','test'], loc='upper right')\n",
    "plt.ylim([0, 2])\n",
    "plt.show()"
   ]
  },
  {
   "cell_type": "code",
   "execution_count": 11,
   "metadata": {
    "collapsed": false
   },
   "outputs": [],
   "source": [
    "model.save('m13c_50.h5')"
   ]
  },
  {
   "cell_type": "code",
   "execution_count": 19,
   "metadata": {
    "collapsed": false
   },
   "outputs": [
    {
     "name": "stdout",
     "output_type": "stream",
     "text": [
      "(62, 2)\n",
      "<type 'numpy.ndarray'>\n",
      "(62,)\n",
      "<type 'numpy.ndarray'>\n"
     ]
    }
   ],
   "source": [
    "print np.shape(y_binary)\n",
    "print type(y_binary)\n",
    "#print y_binary\n",
    "y_binary1=y_binary[:,0]\n",
    "print np.shape(y_binary1)\n",
    "print type(y_binary1)"
   ]
  },
  {
   "cell_type": "code",
   "execution_count": 25,
   "metadata": {
    "collapsed": false,
    "scrolled": true
   },
   "outputs": [
    {
     "data": {
      "image/png": "[encoded data removed]",
      "text/plain": [
       "<matplotlib.figure.Figure at 0x7efcb4c1f210>"
      ]
     },
     "metadata": {},
     "output_type": "display_data"
    },
    {
     "data": {
      "image/png": "[encoded data removed]",
      "text/plain": [
       "<matplotlib.figure.Figure at 0x7efcb4bcca90>"
      ]
     },
     "metadata": {},
     "output_type": "display_data"
    }
   ],
   "source": [
    "###### PLOTS summarize history for accuracy\n",
    "plt.plot(history.history['acc'])\n",
    "plt.plot(history.history['val_acc'])\n",
    "plt.title('model accuracy')\n",
    "plt.ylabel('accuracy')\n",
    "plt.xlabel('epoch')\n",
    "plt.legend(['train','test'], loc='lower right')\n",
    "plt.ylim([0, 1])\n",
    "plt.show()\n",
    "# summarize history for accuracy\n",
    "plt.plot(history.history['loss'])\n",
    "plt.plot(history.history['val_loss'])\n",
    "plt.title('model loss')\n",
    "plt.ylabel('loss')\n",
    "plt.xlabel('epoch')\n",
    "plt.legend(['train','test'], loc='upper right')\n",
    "#plt.ylim([0, 1])\n",
    "plt.show()"
   ]
  },
  {
   "cell_type": "code",
   "execution_count": 14,
   "metadata": {
    "collapsed": false
   },
   "outputs": [
    {
     "data": {
      "text/plain": [
       "[0.66935483870967738,\n",
       " 0.68548387096774188,\n",
       " 0.67741935483870963,\n",
       " 0.67741935483870963,\n",
       " 0.64516129032258063,\n",
       " 0.62096774193548387,\n",
       " 0.66935483870967738,\n",
       " 0.66129032258064513,\n",
       " 0.64516129032258063]"
      ]
     },
     "execution_count": 14,
     "metadata": {},
     "output_type": "execute_result"
    }
   ],
   "source": [
    "history.history['acc'][-10:-1]"
   ]
  },
  {
   "cell_type": "markdown",
   "metadata": {
    "collapsed": true
   },
   "source": [
    "---"
   ]
  },
  {
   "cell_type": "markdown",
   "metadata": {},
   "source": [
    "### Model 1\n",
    "model=Sequential()   \n",
    "model.add(Convolution3D(10, 3, 3, 3, input_shape=(16, 16, 16,1), border_mode='valid', activation='relu'))   \n",
    "model.add(Flatten())   \n",
    "model.add(Dense(100, init='uniform', activation='tanh'))   \n",
    "model.add(Dense(2, init='uniform', activation='tanh'))   \n",
    "#model.add(MaxPooling3D(pool_size=(2,2,2),strides=None, border_mode='valid', dim_ordering='default'))   \n",
    "\n",
    "model.compile(loss='binary_crossentropy', optimizer='adam', metrics=['accuracy'])   \n",
    "history=model.fit(X, y_binary, nb_epoch=500, **batch_size=10**,verbose=0)"
   ]
  },
  {
   "cell_type": "markdown",
   "metadata": {},
   "source": [
    "---"
   ]
  },
  {
   "cell_type": "markdown",
   "metadata": {},
   "source": [
    "### Model 2\n",
    "model=Sequential()   \n",
    "model.add(Convolution3D(10, 3, 3, 3, input_shape=(16, 16, 16,1), border_mode='valid', activation='relu'))   \n",
    "**model.add(MaxPooling3D(pool_size=(2, 2, 2)))**   \n",
    "model.add(Flatten())   \n",
    "model.add(Dense(100, init='uniform', activation='tanh'))   \n",
    "model.add(Dense(2, init='uniform', activation='tanh'))   \n",
    "\n",
    "model.compile(loss='binary_crossentropy', optimizer='adam', metrics=['accuracy'])"
   ]
  },
  {
   "cell_type": "markdown",
   "metadata": {},
   "source": [
    "---"
   ]
  },
  {
   "cell_type": "markdown",
   "metadata": {},
   "source": [
    "### Model 3\n",
    "model=Sequential()   \n",
    "model.add(Convolution3D(10, 3, 3, 3, input_shape=(16, 16, 16,1), border_mode='valid', activation='relu'))   \n",
    "**model.add(MaxPooling3D(pool_size=(2, 2, 2)))   \n",
    "model.add(Convolution3D(10, 3, 3, 3, input_shape=(16, 16, 16,1), border_mode='valid', activation='relu'))**   \n",
    "model.add(Flatten())   \n",
    "model.add(Dense(100, init='uniform', activation='tanh'))   \n",
    "model.add(Dense(2, init='uniform', activation='tanh'))   \n",
    "\n",
    "model.compile(loss='binary_crossentropy', optimizer='adam', metrics=['accuracy'])"
   ]
  },
  {
   "cell_type": "markdown",
   "metadata": {},
   "source": [
    "---"
   ]
  },
  {
   "cell_type": "markdown",
   "metadata": {
    "collapsed": true
   },
   "source": [
    "### Model 4\n",
    "model=Sequential()   \n",
    "model.add(Convolution3D(10, 3, 3, 3, input_shape=(16, 16, 16,1), border_mode='valid', activation='relu'))   \n",
    "**model.add(MaxPooling3D(pool_size=(2, 2, 2)))   \n",
    "model.add(Convolution3D(10, 3, 3, 3, input_shape=(16, 16, 16,1), border_mode='valid', activation='relu'))   \n",
    "model.add(MaxPooling3D(pool_size=(2, 2, 2)))**   \n",
    "model.add(Flatten())   \n",
    "model.add(Dense(100, init='uniform', activation='tanh'))   \n",
    "model.add(Dense(2, init='uniform', activation='tanh'))   \n",
    "model.compile(loss='binary_crossentropy', optimizer='adam', metrics=['accuracy'])   "
   ]
  },
  {
   "cell_type": "markdown",
   "metadata": {},
   "source": [
    "---"
   ]
  },
  {
   "cell_type": "markdown",
   "metadata": {
    "collapsed": true
   },
   "source": [
    "### Model 5\n",
    "model=Sequential()   \n",
    "model.add(Convolution3D(10, 3, 3, 3, input_shape=(16, 16, 16,1), border_mode='valid', activation='relu'))   \n",
    "**model.add(Dropout(0.2))**   \n",
    "model.add(Convolution3D(10, 3, 3, 3, border_mode='valid', activation='relu'))   \n",
    "model.add(MaxPooling3D(pool_size=(2, 2, 2)))   \n",
    "model.add(Flatten())   \n",
    "model.add(Dense(100, init='uniform', activation='tanh'))   \n",
    "model.add(Dense(2, init='uniform', activation='tanh'))   \n",
    "model.compile(loss='binary_crossentropy', optimizer='adam', metrics=['accuracy'])   "
   ]
  },
  {
   "cell_type": "markdown",
   "metadata": {},
   "source": [
    "---"
   ]
  },
  {
   "cell_type": "markdown",
   "metadata": {
    "collapsed": true
   },
   "source": [
    "### Model 6\n",
    "model=Sequential()   \n",
    "model.add(Convolution3D(10, 3, 3, 3, input_shape=(16, 16, 16,1), border_mode='valid', activation='relu'))   \n",
    "model.add(Flatten())   \n",
    "model.add(Dense(100, init='uniform', activation='tanh'))   \n",
    "model.add(Dense(2, init='uniform', activation='tanh'))   \n",
    "model.compile(loss='binary_crossentropy', optimizer='adam', metrics=['accuracy'])"
   ]
  },
  {
   "cell_type": "markdown",
   "metadata": {},
   "source": [
    "---"
   ]
  },
  {
   "cell_type": "markdown",
   "metadata": {
    "collapsed": true
   },
   "source": [
    "### Model 7\n",
    "#### Number of kernels\n",
    "model=Sequential()   \n",
    "model.add(Convolution3D(**32**, 3, 3, 3, input_shape=(16, 16, 16,1), border_mode='valid', activation='relu'))   \n",
    "model.add(Flatten())   \n",
    "model.add(Dense(100, init='uniform', activation='tanh'))   \n",
    "model.add(Dense(2, init='uniform', activation='tanh'))   \n",
    "model.compile(loss='binary_crossentropy', optimizer='adam', metrics=['accuracy'])"
   ]
  },
  {
   "cell_type": "markdown",
   "metadata": {},
   "source": [
    "---"
   ]
  },
  {
   "cell_type": "markdown",
   "metadata": {
    "collapsed": true
   },
   "source": [
    "### Model 8   \n",
    "model=Sequential()   \n",
    "model.add(Convolution3D(10, 3, 3, 3, input_shape=(16, 16, 16,1), border_mode='valid', activation='relu'))   \n",
    "model.add(MaxPooling3D(**pool_size=(4, 4, 4)**))     \n",
    "model.add(Convolution3D(10, 3, 3, 3, border_mode='valid', activation='relu'))   \n",
    "model.add(Flatten())   \n",
    "model.add(Dense(100, init='uniform', activation='tanh'))   \n",
    "model.add(Dense(2, init='uniform', activation='tanh'))   \n",
    "model.compile(loss='binary_crossentropy', optimizer='adam', metrics=['accuracy'])   "
   ]
  },
  {
   "cell_type": "markdown",
   "metadata": {},
   "source": [
    "---"
   ]
  },
  {
   "cell_type": "markdown",
   "metadata": {},
   "source": [
    "### Model 9   \n",
    "model=Sequential()   \n",
    "model.add(Convolution3D(10, 3, 3, 3, input_shape=(16, 16, 16,1), border_mode='valid', activation='relu'))   \n",
    "**model.add(Convolution3D(10, 3, 3, 3, border_mode='valid', activation='relu'))**   \n",
    "model.add(Flatten())   \n",
    "model.add(Dense(100, init='uniform', activation='tanh'))   \n",
    "model.add(Dense(2, init='uniform', activation='tanh'))   \n",
    "model.compile(loss='binary_crossentropy', optimizer='adam', metrics=['accuracy'])   "
   ]
  },
  {
   "cell_type": "markdown",
   "metadata": {},
   "source": [
    "---"
   ]
  },
  {
   "cell_type": "markdown",
   "metadata": {
    "collapsed": true
   },
   "source": [
    "### Model 10   \n",
    "model=Sequential()   \n",
    "model.add(Convolution3D(10, 3, 3, 3, input_shape=(16, 16, 16,1), border_mode='valid', activation='relu'))   \n",
    "**model.add(Convolution3D(10, 3, 3, 3, border_mode='valid', activation='relu'))**   \n",
    "model.add(Flatten())   \n",
    "model.add(Dense(100, init='uniform', activation='tanh'))   \n",
    "model.add(Dense(2, init='uniform', activation='tanh'))   \n",
    "model.compile(loss='binary_crossentropy', optimizer='adam', metrics=['accuracy'])   \n",
    "history=model.fit(X, y_binary, nb_epoch=500, **batch_size=32**,verbose=0)"
   ]
  },
  {
   "cell_type": "markdown",
   "metadata": {},
   "source": [
    "---"
   ]
  },
  {
   "cell_type": "markdown",
   "metadata": {
    "collapsed": true
   },
   "source": [
    "### Model 11   \n",
    "model=Sequential()   \n",
    "model.add(Convolution3D(10, 3, 3, 3, input_shape=(16, 16, 16,1), border_mode='valid', activation='relu'))   \n",
    "**model.add(Convolution3D(10, 3, 3, 3, border_mode='valid', activation='relu'))**   \n",
    "model.add(Flatten())   \n",
    "model.add(Dense(100, init='uniform', activation='tanh'))   \n",
    "model.add(Dense(2, init='uniform', activation='tanh'))   \n",
    "model.compile(loss='binary_crossentropy', optimizer='adam', metrics=['accuracy'])   \n",
    "history=model.fit(X, y_binary, nb_epoch=500, **batch_size=4**,verbose=0)"
   ]
  },
  {
   "cell_type": "markdown",
   "metadata": {},
   "source": [
    "---"
   ]
  },
  {
   "cell_type": "markdown",
   "metadata": {
    "collapsed": true
   },
   "source": [
    "### Model 12   \n",
    "### Demean data\n",
    "model=Sequential()   \n",
    "model.add(Convolution3D(10, 3, 3, 3, input_shape=(16, 16, 16,1), border_mode='valid', activation='relu'))   \n",
    "**model.add(Convolution3D(10, 3, 3, 3, border_mode='valid', activation='relu'))**   \n",
    "model.add(Flatten())   \n",
    "model.add(Dense(100, init='uniform', activation='tanh'))   \n",
    "model.add(Dense(2, init='uniform', activation='tanh'))   \n",
    "model.compile(loss='binary_crossentropy', optimizer='adam', metrics=['accuracy'])   \n",
    "history=model.fit(X, y_binary, nb_epoch=500, **batch_size=4**,verbose=0)"
   ]
  },
  {
   "cell_type": "markdown",
   "metadata": {},
   "source": [
    "---"
   ]
  },
  {
   "cell_type": "markdown",
   "metadata": {
    "collapsed": true
   },
   "source": [
    "### Model 13   \n",
    "### Demean data\n",
    "model=Sequential()   \n",
    "model.add(Convolution3D(10, 3, 3, 3, input_shape=(16, 16, 16,1), border_mode='valid', activation='relu'))   \n",
    "model.add(Flatten())   \n",
    "model.add(Dense(100, init='uniform', activation='tanh'))   \n",
    "model.add(Dense(2, init='uniform', activation='tanh'))   \n",
    "model.compile(loss='binary_crossentropy', optimizer='adam', metrics=['accuracy'])   \n",
    "history=model.fit(X, y_binary, nb_epoch=500, **batch_size=10**,verbose=0)"
   ]
  },
  {
   "cell_type": "markdown",
   "metadata": {},
   "source": [
    "---"
   ]
  },
  {
   "cell_type": "markdown",
   "metadata": {
    "collapsed": true
   },
   "source": [
    "### Model 14   \n",
    "### Demean data    \n",
    "model=Sequential()   \n",
    "model.add(Convolution3D(10, 3, 3, 3, input_shape=(16, 16, 16,1), border_mode='valid', activation='relu', **init='he_normal'**))   \n",
    "model.add(Flatten())   \n",
    "model.add(Dense(100, **init='he_normal'**, activation='tanh'))   \n",
    "model.add(Dense(2, **init='he_normal'**, activation='tanh'))   \n",
    "model.compile(loss='binary_crossentropy', optimizer='adam', metrics=['accuracy'])   \n",
    "history=model.fit(X, y_binary, nb_epoch=500, batch_size=10, verbose=0, validation_split=0.25, shuffle=True)   "
   ]
  },
  {
   "cell_type": "markdown",
   "metadata": {},
   "source": [
    "---"
   ]
  },
  {
   "cell_type": "markdown",
   "metadata": {},
   "source": [
    "### Model 15   \n",
    "### Demean data   \n",
    "model=Sequential()  \n",
    "model.add(Convolution3D(10, 3, 3, 3, input_shape=(16, 16, 16,1), border_mode='valid', activation='relu'))   \n",
    "model.add(Flatten())   \n",
    "model.add(Dense(100, init='uniform', activation='tanh'))   \n",
    "model.add(Dense(2, init='uniform', activation='tanh'))   \n",
    "model.compile(loss='binary_crossentropy', optimizer='adam', metrics=['accuracy'])   \n",
    "**callbacks=EarlyStopping(monitor='val_acc', verbose=0, mode='auto', patience=5)**   \n",
    "history=model.fit(X, y_binary,validation_split=0.2, nb_epoch=50, batch_size=10,verbose=0,**callbacks=[callbacks]**)"
   ]
  },
  {
   "cell_type": "markdown",
   "metadata": {},
   "source": [
    "---"
   ]
  },
  {
   "cell_type": "markdown",
   "metadata": {},
   "source": [
    "### Model 16   \n",
    "### Demean data   \n",
    "model=Sequential()  \n",
    "model.add(Convolution3D(10, 3, 3, 3, input_shape=(16, 16, 16,1), border_mode='valid', activation='relu'))   \n",
    "model.add(Flatten())   \n",
    "model.add(Dense(100, init='uniform', activation='tanh'))   \n",
    "model.add(Dense(**1**, init='uniform', activation='tanh'))   \n",
    "model.compile(loss='binary_crossentropy', optimizer='adam', metrics=['accuracy'])   \n",
    "**callbacks=EarlyStopping(monitor='val_acc', verbose=0, mode='auto', patience=5)**   \n",
    "history=model.fit(X, **ysq**,validation_split=0.2, nb_epoch=50, batch_size=10,verbose=0)"
   ]
  },
  {
   "cell_type": "markdown",
   "metadata": {
    "collapsed": true
   },
   "source": [
    "---"
   ]
  },
  {
   "cell_type": "markdown",
   "metadata": {},
   "source": [
    "### Model 17 demean data\n",
    "model1=Sequential()   \n",
    "model1.add(Convolution3D(10, 3, 3, 3, input_shape=(16, 16, 16,1), border_mode='valid', activation='relu'))   \n",
    "model1.add(Flatten())   \n",
    "model1.add(Dense(20, init='glorot_normal', activation='tanh'))   \n",
    "\n",
    "model2=Sequential()   \n",
    "model2.add(Convolution3D(10, 3, 3, 3, input_shape=(16, 16, 16,1), border_mode='valid', activation='relu'))   \n",
    "model2.add(Flatten())   \n",
    "model2.add(Dense(20, init='glorot_normal', activation='tanh'))   \n",
    "\n",
    "merged = Merge([model1, model2], mode='concat')   \n",
    "final_model = Sequential()   \n",
    "final_model.add(merged)   \n",
    "final_model.add(Dense(10, init='uniform', activation='tanh'))   \n",
    "final_model.add(Dense(1, init='uniform', activation='tanh'))   \n",
    "final_model.compile(loss='binary_crossentropy', optimizer='adam', metrics=['accuracy'])   \n",
    "\n",
    "history=final_model.fit([X1, X2], ysq, validation_split=0.2, nb_epoch=100, batch_size=16,verbose=0)#callbacks=[callbacks]"
   ]
  },
  {
   "cell_type": "markdown",
   "metadata": {
    "collapsed": true
   },
   "source": [
    "---"
   ]
  },
  {
   "cell_type": "markdown",
   "metadata": {},
   "source": [
    "### Model 18 demean data\n",
    "model1=Sequential()   \n",
    "model1.add(Convolution3D(10, 3, 3, 3, input_shape=(16, 16, 16,1), border_mode='valid', activation='relu'))   \n",
    "model1.add(Flatten())   \n",
    "model1.add(Dense(20, init='glorot_normal', activation='tanh'))   \n",
    "\n",
    "model2=Sequential()   \n",
    "model2.add(Convolution3D(10, 3, 3, 3, input_shape=(16, 16, 16,1), border_mode='valid', activation='relu'))   \n",
    "model2.add(Flatten())   \n",
    "model2.add(Dense(20, init='glorot_normal', activation='tanh'))   \n",
    "\n",
    "model3=Sequential()   \n",
    "model3.add(Convolution3D(10, 3, 3, 3, input_shape=(16, 16, 16,1), border_mode='valid', activation='relu'))   \n",
    "model3.add(Flatten())   \n",
    "model3.add(Dense(20, init='glorot_normal', activation='tanh'))   \n",
    "\n",
    "model4=Sequential()   \n",
    "model4.add(Convolution3D(10, 3, 3, 3, input_shape=(16, 16, 16,1), border_mode='valid', activation='relu'))   \n",
    "model4.add(Flatten())   \n",
    "model4.add(Dense(20, init='glorot_normal', activation='tanh'))   \n",
    "\n",
    "model5=Sequential()   \n",
    "model5.add(Convolution3D(10, 3, 3, 3, input_shape=(16, 16, 16,1), border_mode='valid', activation='relu'))   \n",
    "model5.add(Flatten())   \n",
    "model5.add(Dense(20, init='glorot_normal', activation='tanh'))   \n",
    "\n",
    "merged = Merge([model1, model2, model3, model4, model5], mode='concat')   \n",
    "final_model = Sequential()   \n",
    "final_model.add(merged)   \n",
    "final_model.add(Dense(10, init='uniform', activation='tanh'))   \n",
    "final_model.add(Dense(1, init='uniform', activation='tanh'))   \n",
    "final_model.compile(loss='binary_crossentropy', optimizer='adam', metrics=['accuracy'])   \n",
    "\n",
    "history=final_model.fit([X1, X2, X3, X4, X5], ysq, validation_split=0.2, nb_epoch=100, batch_size=16,verbose=0)#callbacks=[callbacks]"
   ]
  },
  {
   "cell_type": "code",
   "execution_count": null,
   "metadata": {
    "collapsed": true
   },
   "outputs": [],
   "source": []
  }
 ],
 "metadata": {
  "kernelspec": {
   "display_name": "Python 2",
   "language": "python",
   "name": "python2"
  },
  "language_info": {
   "codemirror_mode": {
    "name": "ipython",
    "version": 2
   },
   "file_extension": ".py",
   "mimetype": "text/x-python",
   "name": "python",
   "nbconvert_exporter": "python",
   "pygments_lexer": "ipython2",
   "version": "2.7.12"
  }
 },
 "nbformat": 4,
 "nbformat_minor": 0
}

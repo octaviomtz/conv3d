{
 "cells": [
  {
   "cell_type": "code",
   "execution_count": 1,
   "metadata": {
    "collapsed": true
   },
   "outputs": [],
   "source": [
    "import scipy.io\n",
    "import numpy as np, h5py\n",
    "import matplotlib.pyplot as plt\n",
    "import copy\n",
    "import pandas as pd\n",
    "import pickle\n",
    "%matplotlib inline"
   ]
  },
  {
   "cell_type": "code",
   "execution_count": 2,
   "metadata": {
    "collapsed": true
   },
   "outputs": [],
   "source": [
    "from pylab import rcParams\n",
    "rcParams['figure.figsize'] = 10, 5\n",
    "rcParams['figure.dpi']=150\n",
    "rcParams['lines.linewidth']=1\n",
    "rcParams['axes.grid']=True\n",
    "rcParams['axes.facecolor']='#FFFFFF'\n",
    "rcParams['font.size']=14\n",
    "rcParams['patch.edgecolor']='none'"
   ]
  },
  {
   "cell_type": "code",
   "execution_count": 3,
   "metadata": {
    "collapsed": true
   },
   "outputs": [],
   "source": [
    "# fix random seed for reproducibility\n",
    "seed = 7\n",
    "np.random.seed(seed)"
   ]
  },
  {
   "cell_type": "code",
   "execution_count": 4,
   "metadata": {
    "collapsed": true
   },
   "outputs": [],
   "source": [
    "def readScan(scan):\n",
    "    # We read the file saved in Matlab. There is only one variable in the file called scansMini\n",
    "    data = h5py.File(scan, 'r')\n",
    "    Xscans=data.get('scansMini')\n",
    "    # We have to get the values into the right format (subjects, dim1, dim2, dim3, channels)\n",
    "    X=copy.copy(Xscans.value)\n",
    "    X=np.expand_dims(X,4)\n",
    "    X1=np.rollaxis(X,3)\n",
    "    return X1"
   ]
  },
  {
   "cell_type": "code",
   "execution_count": 5,
   "metadata": {
    "collapsed": true
   },
   "outputs": [],
   "source": [
    "def readLabels(labels):\n",
    "    data = h5py.File(labels, 'r')\n",
    "    Xscans=data.get('labels')\n",
    "    X=copy.copy(Xscans.value)\n",
    "    X2=np.squeeze(X).astype(int)\n",
    "    return X2"
   ]
  },
  {
   "cell_type": "code",
   "execution_count": 8,
   "metadata": {
    "collapsed": false
   },
   "outputs": [],
   "source": [
    "y=readLabels('fold1/train/labelsTrain.mat')\n",
    "X1=readScan('fold1/train/scansMiniTrain1.mat')\n",
    "X2=readScan('fold1/train/scansMiniTrain2.mat')\n",
    "X3=readScan('fold1/train/scansMiniTrain3.mat')\n",
    "X4=readScan('fold1/train/scansMiniTrain4.mat')\n",
    "X5=readScan('fold1/train/scansMiniTrain5.mat')\n",
    "X6=readScan('fold1/train/scansMiniTrain6.mat')\n",
    "X7=readScan('fold1/train/scansMiniTrain7.mat')\n",
    "X8=readScan('fold1/train/scansMiniTrain8.mat')\n",
    "X9=readScan('fold1/train/scansMiniTrain9.mat')\n",
    "X10=readScan('fold1/train/scansMiniTrain10.mat')\n",
    "X11=readScan('fold1/train/scansMiniTrain11.mat')\n",
    "X12=readScan('fold1/train/scansMiniTrain12.mat')\n",
    "X13=readScan('fold1/train/scansMiniTrain13.mat')\n",
    "X14=readScan('fold1/train/scansMiniTrain14.mat')\n",
    "X15=readScan('fold1/train/scansMiniTrain15.mat')\n",
    "X16=readScan('fold1/train/scansMiniTrain16.mat')\n",
    "X17=readScan('fold1/train/scansMiniTrain17.mat')"
   ]
  },
  {
   "cell_type": "code",
   "execution_count": 9,
   "metadata": {
    "collapsed": false
   },
   "outputs": [
    {
     "data": {
      "text/plain": [
       "<matplotlib.collections.PolyCollection at 0x7fcbb4799990>"
      ]
     },
     "execution_count": 9,
     "metadata": {},
     "output_type": "execute_result"
    },
    {
     "data": {
      "image/png": "[encoded data removed]",
      "text/plain": [
       "<matplotlib.figure.Figure at 0x7fcbb6e00690>"
      ]
     },
     "metadata": {},
     "output_type": "display_data"
    }
   ],
   "source": [
    "f, (ax1, ax2) = plt.subplots(1, 2, sharey=True)\n",
    "ax1.pcolor((X1[10,:,:,0,0]))\n",
    "ax1.set_title('Sharing Y axis')\n",
    "ax2.pcolor((X2[10,:,:,0,0]))"
   ]
  },
  {
   "cell_type": "code",
   "execution_count": 10,
   "metadata": {
    "collapsed": false
   },
   "outputs": [
    {
     "data": {
      "text/plain": [
       "(248, 10, 10, 10, 1)"
      ]
     },
     "execution_count": 10,
     "metadata": {},
     "output_type": "execute_result"
    }
   ],
   "source": [
    "X1.shape"
   ]
  },
  {
   "cell_type": "code",
   "execution_count": 11,
   "metadata": {
    "collapsed": false
   },
   "outputs": [
    {
     "name": "stderr",
     "output_type": "stream",
     "text": [
      "Using TensorFlow backend.\n"
     ]
    }
   ],
   "source": [
    "from keras.models import Sequential\n",
    "from keras.layers import Dense\n",
    "from keras.layers import Merge\n",
    "from keras.layers.convolutional import Convolution3D\n",
    "from keras.layers.pooling import MaxPooling3D\n",
    "from keras.layers.core import Dense, Flatten\n",
    "from keras.layers import Dropout\n",
    "from keras.optimizers import Adam\n",
    "from keras.optimizers import SGD\n",
    "from keras.wrappers.scikit_learn import KerasClassifier\n",
    "from keras.callbacks import EarlyStopping\n",
    "import time"
   ]
  },
  {
   "cell_type": "markdown",
   "metadata": {},
   "source": [
    "---"
   ]
  },
  {
   "cell_type": "code",
   "execution_count": 12,
   "metadata": {
    "collapsed": false
   },
   "outputs": [],
   "source": [
    "import keras.backend as K\n",
    "from keras.callbacks import ModelCheckpoint\n",
    "from keras.callbacks import LearningRateScheduler\n",
    "from keras.layers import Activation\n",
    "from keras.layers.normalization import BatchNormalization\n",
    "from keras.regularizers import l2\n",
    "import math"
   ]
  },
  {
   "cell_type": "code",
   "execution_count": 11,
   "metadata": {
    "collapsed": false
   },
   "outputs": [],
   "source": [
    "#callbacks1=EarlyStopping(monitor='loss', mode='auto', patience=30,verbose=0)"
   ]
  },
  {
   "cell_type": "code",
   "execution_count": 13,
   "metadata": {
    "collapsed": false
   },
   "outputs": [],
   "source": [
    "#callbacks2=ReduceLROnPlateau(monitor='loss', factor=0.1, epsilon=0.005, patience=8)"
   ]
  },
  {
   "cell_type": "code",
   "execution_count": 13,
   "metadata": {
    "collapsed": true
   },
   "outputs": [],
   "source": [
    "# learning rate schedule\n",
    "#def step_decay(epoch):\n",
    "#    initial_lrate = 0.1\n",
    "#    drop = 0.5\n",
    "#    epochs_drop = 25.0\n",
    "#    lrate = initial_lrate * math.pow(drop, math.floor((1+epoch)/epochs_drop))\n",
    "#    return lrate"
   ]
  },
  {
   "cell_type": "code",
   "execution_count": 14,
   "metadata": {
    "collapsed": false
   },
   "outputs": [],
   "source": [
    "#callbacks3=ModelCheckpoint('m638a_Weights.{epoch:02d}-{val_acc:.2f}.hdf5',monitor='val_acc', verbose=0, save_best_only=True, save_weights_only=False, mode='auto')"
   ]
  },
  {
   "cell_type": "markdown",
   "metadata": {
    "collapsed": true
   },
   "source": [
    "---"
   ]
  },
  {
   "cell_type": "code",
   "execution_count": 16,
   "metadata": {
    "collapsed": true
   },
   "outputs": [],
   "source": [
    "adam=Adam(lr=0.0005, beta_1=0.9, beta_2=0.999, epsilon=1e-08, decay=1e-04)#"
   ]
  },
  {
   "cell_type": "code",
   "execution_count": 17,
   "metadata": {
    "collapsed": true
   },
   "outputs": [],
   "source": [
    "final_model.reset_states()\n",
    "model1.reset_states()\n",
    "model2.reset_states()\n",
    "model3.reset_states()\n",
    "model4.reset_states()\n",
    "model5.reset_states()\n",
    "model6.reset_states()\n",
    "model7.reset_states()\n",
    "model8.reset_states()\n",
    "model9.reset_states()\n",
    "model10.reset_states()\n",
    "model11.reset_states()\n",
    "model12.reset_states()\n",
    "model13.reset_states()\n",
    "model14.reset_states()\n",
    "model15.reset_states()\n",
    "model16.reset_states()\n",
    "model17.reset_states()"
   ]
  },
  {
   "cell_type": "code",
   "execution_count": 18,
   "metadata": {
    "collapsed": false
   },
   "outputs": [],
   "source": [
    "model1=Sequential()\n",
    "model1.add(Convolution3D(10, 3, 3, 3, input_shape=(10, 10, 10,1), border_mode='valid', init='he_normal', W_regularizer=l2(.05)))\n",
    "model1.add(BatchNormalization())\n",
    "model1.add(Activation('relu'))\n",
    "model1.add(Flatten())\n",
    "model1.add(Dropout(0.2))\n",
    "model1.add(Dense(20, init='glorot_normal', activation='tanh'))\n",
    "\n",
    "model2=Sequential()\n",
    "model2.add(Convolution3D(10, 3, 3, 3, input_shape=(10, 10, 10,1), border_mode='valid',  init='he_normal',W_regularizer=l2(.05)))\n",
    "model2.add(BatchNormalization())\n",
    "model2.add(Activation('relu'))\n",
    "model2.add(Flatten())\n",
    "model2.add(Dropout(0.2))\n",
    "model2.add(Dense(20, init='glorot_normal', activation='tanh'))\n",
    "\n",
    "model3=Sequential()\n",
    "model3.add(Convolution3D(10, 3, 3, 3, input_shape=(10, 10, 10,1), border_mode='valid',  init='he_normal',W_regularizer=l2(.05)))\n",
    "model3.add(BatchNormalization())\n",
    "model3.add(Activation('relu'))\n",
    "model3.add(Flatten())\n",
    "model3.add(Dropout(0.2))\n",
    "model3.add(Dense(20, init='glorot_normal', activation='tanh'))\n",
    "\n",
    "model4=Sequential()\n",
    "model4.add(Convolution3D(10, 3, 3, 3, input_shape=(10, 10, 10,1), border_mode='valid',  init='he_normal',W_regularizer=l2(.05)))\n",
    "model4.add(BatchNormalization())\n",
    "model4.add(Activation('relu'))\n",
    "model4.add(Flatten())\n",
    "model4.add(Dropout(0.2))\n",
    "model4.add(Dense(20, init='glorot_normal', activation='tanh'))\n",
    "\n",
    "model5=Sequential()\n",
    "model5.add(Convolution3D(10, 3, 3, 3, input_shape=(10, 10, 10,1), border_mode='valid', init='he_normal',W_regularizer=l2(.05)))\n",
    "model5.add(BatchNormalization())\n",
    "model5.add(Activation('relu'))\n",
    "model5.add(Flatten())\n",
    "model5.add(Dropout(0.2))\n",
    "model5.add(Dense(20, init='glorot_normal', activation='tanh'))\n",
    "\n",
    "model6=Sequential()\n",
    "model6.add(Convolution3D(10, 3, 3, 3, input_shape=(10, 10, 10,1), border_mode='valid', init='he_normal',W_regularizer=l2(.05)))\n",
    "model6.add(BatchNormalization())\n",
    "model6.add(Activation('relu'))\n",
    "model6.add(Flatten())\n",
    "model6.add(Dropout(0.2))\n",
    "model6.add(Dense(20, init='glorot_normal', activation='tanh'))\n",
    "\n",
    "model7=Sequential()\n",
    "model7.add(Convolution3D(10, 3, 3, 3, input_shape=(10, 10, 10,1), border_mode='valid',  init='he_normal',W_regularizer=l2(.05)))\n",
    "model7.add(BatchNormalization())\n",
    "model7.add(Activation('relu'))\n",
    "model7.add(Flatten())\n",
    "model7.add(Dropout(0.2))\n",
    "model7.add(Dense(20, init='glorot_normal', activation='tanh'))\n",
    "\n",
    "model8=Sequential()\n",
    "model8.add(Convolution3D(10, 3, 3, 3, input_shape=(10, 10, 10,1), border_mode='valid', init='he_normal',W_regularizer=l2(.05)))\n",
    "model8.add(BatchNormalization())\n",
    "model8.add(Activation('relu'))\n",
    "model8.add(Flatten())\n",
    "model8.add(Dropout(0.2))\n",
    "model8.add(Dense(20, init='glorot_normal', activation='tanh'))\n",
    "\n",
    "model9=Sequential()\n",
    "model9.add(Convolution3D(10, 3, 3, 3, input_shape=(10, 10, 10,1), border_mode='valid', init='he_normal',W_regularizer=l2(.05)))\n",
    "model9.add(BatchNormalization())\n",
    "model9.add(Activation('relu'))\n",
    "model9.add(Flatten())\n",
    "model9.add(Dropout(0.2))\n",
    "model9.add(Dense(20, init='glorot_normal', activation='tanh'))\n",
    "\n",
    "model10=Sequential()\n",
    "model10.add(Convolution3D(10, 3, 3, 3, input_shape=(10, 10, 10,1), border_mode='valid', init='he_normal',W_regularizer=l2(.05)))\n",
    "model10.add(BatchNormalization())\n",
    "model10.add(Activation('relu'))\n",
    "model10.add(Flatten())\n",
    "model10.add(Dropout(0.2))\n",
    "model10.add(Dense(20, init='glorot_normal', activation='tanh'))\n",
    "\n",
    "model11=Sequential()\n",
    "model11.add(Convolution3D(10, 3, 3, 3, input_shape=(10, 10, 10,1), border_mode='valid', init='he_normal',W_regularizer=l2(.05)))\n",
    "model11.add(BatchNormalization())\n",
    "model11.add(Activation('relu'))\n",
    "model11.add(Flatten())\n",
    "model11.add(Dropout(0.2))\n",
    "model11.add(Dense(20, init='glorot_normal', activation='tanh'))\n",
    "\n",
    "model12=Sequential()\n",
    "model12.add(Convolution3D(10, 3, 3, 3, input_shape=(10, 10, 10,1), border_mode='valid', init='he_normal',W_regularizer=l2(.05)))\n",
    "model12.add(BatchNormalization())\n",
    "model12.add(Activation('relu'))\n",
    "model12.add(Flatten())\n",
    "model12.add(Dropout(0.2))\n",
    "model12.add(Dense(20, init='glorot_normal', activation='tanh'))\n",
    "\n",
    "model13=Sequential()\n",
    "model13.add(Convolution3D(10, 3, 3, 3, input_shape=(10, 10, 10,1), border_mode='valid', init='he_normal',W_regularizer=l2(.05)))\n",
    "model13.add(BatchNormalization())\n",
    "model13.add(Activation('relu'))\n",
    "model13.add(Flatten())\n",
    "model13.add(Dropout(0.2))\n",
    "model13.add(Dense(20, init='glorot_normal', activation='tanh'))\n",
    "\n",
    "model14=Sequential()\n",
    "model14.add(Convolution3D(10, 3, 3, 3, input_shape=(10, 10, 10,1), border_mode='valid', init='he_normal',W_regularizer=l2(.05)))\n",
    "model14.add(BatchNormalization())\n",
    "model14.add(Activation('relu'))\n",
    "model14.add(Flatten())\n",
    "model14.add(Dropout(0.2))\n",
    "model14.add(Dense(20, init='glorot_normal', activation='tanh'))\n",
    "\n",
    "model15=Sequential()\n",
    "model15.add(Convolution3D(10, 3, 3, 3, input_shape=(10, 10, 10,1), border_mode='valid', init='he_normal',W_regularizer=l2(.05)))\n",
    "model15.add(BatchNormalization())\n",
    "model15.add(Activation('relu'))\n",
    "model15.add(Flatten())\n",
    "model15.add(Dropout(0.2))\n",
    "model15.add(Dense(20, init='glorot_normal', activation='tanh'))\n",
    "\n",
    "model16=Sequential()\n",
    "model16.add(Convolution3D(10, 3, 3, 3, input_shape=(10, 10, 10,1), border_mode='valid', init='he_normal',W_regularizer=l2(.05)))\n",
    "model16.add(BatchNormalization())\n",
    "model16.add(Activation('relu'))\n",
    "model16.add(Flatten())\n",
    "model16.add(Dropout(0.2))\n",
    "model16.add(Dense(20, init='glorot_normal', activation='tanh'))\n",
    "\n",
    "model17=Sequential()\n",
    "model17.add(Convolution3D(10, 3, 3, 3, input_shape=(10, 10, 10,1), border_mode='valid', init='he_normal',W_regularizer=l2(.05)))\n",
    "model17.add(BatchNormalization())\n",
    "model17.add(Activation('relu'))\n",
    "model17.add(Flatten())\n",
    "model17.add(Dropout(0.2))\n",
    "model17.add(Dense(20, init='glorot_normal', activation='tanh'))\n",
    "\n",
    "merged = Merge([model1, model2, model3, model4, model5, model6, model7, model8, model9, model10, model11, model12, model13, model14, model15, model16, model17], mode='concat')\n",
    "final_model = Sequential()\n",
    "final_model.add(merged)\n",
    "final_model.add(Dense(10, init='glorot_normal', activation='tanh',W_regularizer=l2(.01)))\n",
    "final_model.add(Dense(1, init='glorot_normal', activation='tanh'))\n",
    "final_model.compile(loss='binary_crossentropy', optimizer=adam, metrics=['accuracy'])"
   ]
  },
  {
   "cell_type": "code",
   "execution_count": 19,
   "metadata": {
    "collapsed": false
   },
   "outputs": [
    {
     "name": "stdout",
     "output_type": "stream",
     "text": [
      "0.0005\n"
     ]
    }
   ],
   "source": [
    "import keras.backend as K\n",
    "print K.get_value(final_model.optimizer.lr)"
   ]
  },
  {
   "cell_type": "code",
   "execution_count": 25,
   "metadata": {
    "collapsed": true
   },
   "outputs": [],
   "source": [
    "#1 cerebelum\n",
    "#2 parietal right\n",
    "#3 parietal left\n",
    "#4 front right1 (FR1)\n",
    "#5 front right2 (FR2, up and posterior FR1)\n",
    "#6 front right3 (FR3, up and posterior FR2)\n",
    "#7 putamen right (PR)\n",
    "#8 very close to putamen right\n",
    "#9 putamen left\n",
    "#10 front left1 (FL1)\n",
    "#11 front left2 (FL2, up and posterior FL1)\n",
    "#12 front left3 (FL3, up and posterior FL2)"
   ]
  },
  {
   "cell_type": "code",
   "execution_count": 21,
   "metadata": {
    "collapsed": false
   },
   "outputs": [
    {
     "name": "stdout",
     "output_type": "stream",
     "text": [
      "Train on 198 samples, validate on 50 samples\n",
      "Epoch 1/1\n",
      "165s - loss: 8.8342 - acc: 0.4192 - val_loss: 0.4837 - val_acc: 0.6400\n",
      "Train on 198 samples, validate on 50 samples\n",
      "Epoch 1/1\n",
      "171s - loss: 6.9229 - acc: 0.5404 - val_loss: 1.4640 - val_acc: 0.4000\n",
      "0.120192122791\n"
     ]
    }
   ],
   "source": [
    "# https://github.com/fchollet/keras/issues/888\n",
    "# https://github.com/fchollet/keras/issues/898\n",
    "# Save variables\n",
    "acc_train=[]\n",
    "loss_train=[]\n",
    "acc_val=[]\n",
    "loss_val=[]\n",
    "all_lr=[]\n",
    "t0 = time.time()\n",
    "\n",
    "# thresholds\n",
    "thres1=.80\n",
    "thres1passed=0\n",
    "thres2=.90\n",
    "thres2passed=0\n",
    "thres3=.93\n",
    "thres3passed=0\n",
    "thres4=.96\n",
    "thres4passed=0\n",
    "maxAcc=0\n",
    "maxAccVal=0\n",
    "countNoIncrease=0\n",
    "\n",
    "for iteration in np.linspace(1,2,2):\n",
    "    history=final_model.fit([X1, X2, X3, X4, X5, X6, X7, X8, X9, X10, X1, X12, X13, X14, X15, X16, X17], y, validation_split=0.2, nb_epoch=1, batch_size=8,verbose=2)\n",
    "    # Append values\n",
    "    acc_train.append(history.history['acc'])\n",
    "    acc_val.append(history.history['val_acc'])\n",
    "    loss_train.append(history.history['loss'])\n",
    "    loss_val.append(history.history['val_loss'])\n",
    "    all_lr.append(K.get_value(final_model.optimizer.lr))\n",
    "    \n",
    "    # Compare last iteration vs max value of Acc\n",
    "    if acc_train[-1][0]>maxAcc:\n",
    "        maxAcc=max(acc_train)[0]\n",
    "        maxIt=iteration\n",
    "    else:\n",
    "        countNoIncrease=countNoIncrease+1\n",
    "        \n",
    "    if acc_val[-1][0]>maxAccVal:\n",
    "        maxAccVal=max(acc_val)[0]\n",
    "        final_model.save('m715s10_iter_'+'{0}_valAcc_{1}'.format(int(iteration),acc_val[-1][0])+'.h5')\n",
    "    \n",
    "    if countNoIncrease>=10:\n",
    "        countNoIncrease=0\n",
    "        K.set_value(final_model.optimizer.lr, 0.5 * K.get_value(final_model.optimizer.lr))    \n",
    "        \n",
    "    if acc_train[-1][0] > thres1 and thres1passed == 0:\n",
    "        thres1passed=1\n",
    "        countNoIncrease=0\n",
    "        K.set_value(final_model.optimizer.lr, 0.5 * K.get_value(final_model.optimizer.lr))    \n",
    "        \n",
    "    if acc_train[-1][0] > thres2 and thres2passed == 0:\n",
    "        thres2passed=1\n",
    "        countNoIncrease=0\n",
    "        K.set_value(final_model.optimizer.lr, 0.5 * K.get_value(final_model.optimizer.lr))    \n",
    "        \n",
    "    if acc_train[-1][0] > thres3 and thres3passed == 0:\n",
    "        thres3passed=1\n",
    "        countNoIncrease=0\n",
    "        K.set_value(final_model.optimizer.lr, 0.5 * K.get_value(final_model.optimizer.lr))    \n",
    "        \n",
    "    if acc_train[-1][0] > thres4 and thres4passed == 0:\n",
    "        thres4passed=1\n",
    "        countNoIncrease=0\n",
    "        K.set_value(final_model.optimizer.lr, 0.5 * K.get_value(final_model.optimizer.lr))   \n",
    "    \n",
    "t1 = time.time()\n",
    "print (t1-t0)/60/60"
   ]
  },
  {
   "cell_type": "code",
   "execution_count": 15,
   "metadata": {
    "collapsed": false
   },
   "outputs": [
    {
     "data": {
      "image/png": "[encoded data removed]",
      "text/plain": [
       "<matplotlib.figure.Figure at 0x7f60737b1250>"
      ]
     },
     "metadata": {},
     "output_type": "display_data"
    },
    {
     "data": {
      "image/png": "[encoded data removed]",
      "text/plain": [
       "<matplotlib.figure.Figure at 0x7f608a0e4350>"
      ]
     },
     "metadata": {},
     "output_type": "display_data"
    }
   ],
   "source": [
    "#summarize history for accuracy\n",
    "fig=plt.figure()\n",
    "plt.plot(acc_train)\n",
    "plt.plot(acc_val)\n",
    "plt.title('model accuracy')\n",
    "plt.ylabel('accuracy')\n",
    "plt.xlabel('epoch')\n",
    "plt.legend(['train','val'], loc='lower right')\n",
    "plt.ylim([0, 1])\n",
    "plt.show()\n",
    "# summarize history for accuracy\n",
    "plt.plot(loss_train)\n",
    "plt.plot(loss_val)\n",
    "plt.title('model loss')\n",
    "plt.ylabel('loss')\n",
    "plt.xlabel('epoch')\n",
    "plt.legend(['train','val'], loc='upper right')\n",
    "#plt.ylim([0, 2])\n",
    "plt.show()"
   ]
  },
  {
   "cell_type": "code",
   "execution_count": 16,
   "metadata": {
    "collapsed": false
   },
   "outputs": [
    {
     "data": {
      "image/png": "[encoded data removed]",
      "text/plain": [
       "<matplotlib.figure.Figure at 0x7f606f2a0650>"
      ]
     },
     "metadata": {},
     "output_type": "display_data"
    }
   ],
   "source": [
    "fig=plt.figure()\n",
    "plt.plot(all_lr)\n",
    "plt.title('learning rate')\n",
    "plt.ylabel('learning rate')\n",
    "plt.xlabel('epoch')\n",
    "plt.legend(['learning rate'], loc='upper right')\n",
    "plt.show()"
   ]
  },
  {
   "cell_type": "code",
   "execution_count": 22,
   "metadata": {
    "collapsed": false
   },
   "outputs": [
    {
     "name": "stdout",
     "output_type": "stream",
     "text": [
      "Train on 198 samples, validate on 50 samples\n",
      "Epoch 1/1\n",
      "121s - loss: 7.6713 - acc: 0.4747 - val_loss: 2.1318 - val_acc: 0.2000\n",
      "Train on 198 samples, validate on 50 samples\n",
      "Epoch 1/1\n",
      "118s - loss: 6.4953 - acc: 0.5404 - val_loss: 0.2051 - val_acc: 0.7200\n",
      "Train on 198 samples, validate on 50 samples\n",
      "Epoch 1/1\n",
      "119s - loss: 4.6341 - acc: 0.6616 - val_loss: 0.2777 - val_acc: 0.8200\n",
      "Train on 198 samples, validate on 50 samples\n",
      "Epoch 1/1\n",
      "218s - loss: 4.9742 - acc: 0.6010 - val_loss: 0.4614 - val_acc: 0.6400\n",
      "Train on 198 samples, validate on 50 samples\n",
      "Epoch 1/1\n",
      "226s - loss: 4.4538 - acc: 0.6515 - val_loss: 0.5509 - val_acc: 0.6800\n",
      "Train on 198 samples, validate on 50 samples\n",
      "Epoch 1/1\n",
      "202s - loss: 3.9559 - acc: 0.7172 - val_loss: 0.3546 - val_acc: 0.8000\n",
      "0.279784742528\n"
     ]
    }
   ],
   "source": [
    "t0 = time.time()\n",
    "\n",
    "for iteration in np.linspace(3,8,6):\n",
    "    history=final_model.fit([X1, X2, X3, X4, X5, X6, X7, X8, X9, X10, X1, X12, X13, X14, X15, X16, X17], y, validation_split=0.2, nb_epoch=1, batch_size=8,verbose=2)\n",
    "    # Append values\n",
    "    acc_train.append(history.history['acc'])\n",
    "    acc_val.append(history.history['val_acc'])\n",
    "    loss_train.append(history.history['loss'])\n",
    "    loss_val.append(history.history['val_loss'])\n",
    "    all_lr.append(K.get_value(final_model.optimizer.lr))\n",
    "    \n",
    "    # Compare last iteration vs max value of Acc\n",
    "    if acc_train[-1][0]>maxAcc:\n",
    "        maxAcc=max(acc_train)[0]\n",
    "        maxIt=iteration\n",
    "    else:\n",
    "        countNoIncrease=countNoIncrease+1\n",
    "        \n",
    "    if acc_val[-1][0]>maxAccVal:\n",
    "        maxAccVal=max(acc_val)[0]\n",
    "        final_model.save('m715s10_iter_'+'{0}_valAcc_{1}'.format(int(iteration),acc_val[-1][0])+'.h5')\n",
    "    \n",
    "    if countNoIncrease>=10:\n",
    "        countNoIncrease=0\n",
    "        K.set_value(final_model.optimizer.lr, 0.5 * K.get_value(final_model.optimizer.lr))    \n",
    "        \n",
    "    if acc_train[-1][0] > thres1 and thres1passed == 0:\n",
    "        thres1passed=1\n",
    "        countNoIncrease=0\n",
    "        K.set_value(final_model.optimizer.lr, 0.5 * K.get_value(final_model.optimizer.lr))    \n",
    "        \n",
    "    if acc_train[-1][0] > thres2 and thres2passed == 0:\n",
    "        thres2passed=1\n",
    "        countNoIncrease=0\n",
    "        K.set_value(final_model.optimizer.lr, 0.5 * K.get_value(final_model.optimizer.lr))    \n",
    "        \n",
    "    if acc_train[-1][0] > thres3 and thres3passed == 0:\n",
    "        thres3passed=1\n",
    "        countNoIncrease=0\n",
    "        K.set_value(final_model.optimizer.lr, 0.5 * K.get_value(final_model.optimizer.lr))    \n",
    "        \n",
    "    if acc_train[-1][0] > thres4 and thres4passed == 0:\n",
    "        thres4passed=1\n",
    "        countNoIncrease=0\n",
    "        K.set_value(final_model.optimizer.lr, 0.5 * K.get_value(final_model.optimizer.lr))   \n",
    "    \n",
    "t1 = time.time()\n",
    "print (t1-t0)/60/60"
   ]
  },
  {
   "cell_type": "code",
   "execution_count": 19,
   "metadata": {
    "collapsed": true
   },
   "outputs": [],
   "source": [
    "K_LR=K.get_value(adam.lr)\n",
    "K_LR, acc_train, loss_train, acc_val, loss_val, all_lr\n",
    "with open('m715objs.pickle', 'wb') as f:  # Python 3: open(..., 'wb')\n",
    "    pickle.dump([K_LR, acc_train, loss_train, acc_val, loss_val, all_lr], f)"
   ]
  },
  {
   "cell_type": "code",
   "execution_count": 9,
   "metadata": {
    "collapsed": false
   },
   "outputs": [],
   "source": [
    "# Getting back the objects:\n",
    "with open('m715objs.pickle') as f:  # Python 3: open(..., 'rb')\n",
    "    K_LR, acc_train, loss_train, acc_val, loss_val, all_lr = pickle.load(f)"
   ]
  },
  {
   "cell_type": "code",
   "execution_count": 25,
   "metadata": {
    "collapsed": true
   },
   "outputs": [],
   "source": [
    "from keras.models import load_model\n",
    "final_model=load_model('m715m_iter_8_valAcc_0.9.h5')"
   ]
  },
  {
   "cell_type": "code",
   "execution_count": 23,
   "metadata": {
    "collapsed": false
   },
   "outputs": [
    {
     "data": {
      "image/png": "[encoded data removed]",
      "text/plain": [
       "<matplotlib.figure.Figure at 0x7fcbac032250>"
      ]
     },
     "metadata": {},
     "output_type": "display_data"
    },
    {
     "data": {
      "image/png": "[encoded data removed]",
      "text/plain": [
       "<matplotlib.figure.Figure at 0x7fcb965a0210>"
      ]
     },
     "metadata": {},
     "output_type": "display_data"
    }
   ],
   "source": [
    "#summarize history for accuracy\n",
    "fig=plt.figure()\n",
    "plt.plot(acc_train)\n",
    "plt.plot(acc_val)\n",
    "plt.title('model accuracy')\n",
    "plt.ylabel('accuracy')\n",
    "plt.xlabel('epoch')\n",
    "plt.legend(['train','val'], loc='lower right')\n",
    "plt.ylim([0, 1])\n",
    "plt.show()\n",
    "# summarize history for accuracy\n",
    "plt.plot(loss_train)\n",
    "plt.plot(loss_val)\n",
    "plt.title('model loss')\n",
    "plt.ylabel('loss')\n",
    "plt.xlabel('epoch')\n",
    "plt.legend(['train','val'], loc='upper right')\n",
    "#plt.ylim([0, 2])\n",
    "plt.show()"
   ]
  },
  {
   "cell_type": "code",
   "execution_count": 31,
   "metadata": {
    "collapsed": false
   },
   "outputs": [
    {
     "data": {
      "image/png": "[encoded data removed]",
      "text/plain": [
       "<matplotlib.figure.Figure at 0x7f7d6c013990>"
      ]
     },
     "metadata": {},
     "output_type": "display_data"
    }
   ],
   "source": [
    "fig=plt.figure()\n",
    "plt.plot(all_lr)\n",
    "plt.title('learning rate')\n",
    "plt.ylabel('learning rate')\n",
    "plt.xlabel('epoch')\n",
    "plt.legend(['learning rate'], loc='upper right')\n",
    "plt.show()"
   ]
  },
  {
   "cell_type": "markdown",
   "metadata": {
    "collapsed": false
   },
   "source": [
    "---"
   ]
  },
  {
   "cell_type": "code",
   "execution_count": 11,
   "metadata": {
    "collapsed": false
   },
   "outputs": [],
   "source": [
    "#print K.get_value(adam.lr)\n",
    "#print history.history['val_acc'][-1]"
   ]
  },
  {
   "cell_type": "code",
   "execution_count": 15,
   "metadata": {
    "collapsed": false
   },
   "outputs": [],
   "source": [
    "y_true=readLabels('fold1/test/labelsTest.mat')\n",
    "X1test=readScan('fold1/test/scansMiniTest1.mat')\n",
    "X2test=readScan('fold1/test/scansMiniTest2.mat')\n",
    "X3test=readScan('fold1/test/scansMiniTest3.mat')\n",
    "X4test=readScan('fold1/test/scansMiniTest4.mat')\n",
    "X5test=readScan('fold1/test/scansMiniTest5.mat')\n",
    "X6test=readScan('fold1/test/scansMiniTest6.mat')\n",
    "X7test=readScan('fold1/test/scansMiniTest7.mat')\n",
    "X8test=readScan('fold1/test/scansMiniTest8.mat')\n",
    "X9test=readScan('fold1/test/scansMiniTest9.mat')\n",
    "X10test=readScan('fold1/test/scansMiniTest10.mat')\n",
    "X11test=readScan('fold1/test/scansMiniTest11.mat')\n",
    "X12test=readScan('fold1/test/scansMiniTest12.mat')"
   ]
  },
  {
   "cell_type": "code",
   "execution_count": 27,
   "metadata": {
    "collapsed": false
   },
   "outputs": [
    {
     "name": "stdout",
     "output_type": "stream",
     "text": [
      "62/62 [==============================] - 12s    \n"
     ]
    }
   ],
   "source": [
    "y_predProb=final_model.predict([X1test, X2test, X3test, X4test, X5test, X6test, X7test, X9test, X10test, X11test, X12test])\n",
    "y_pred=final_model.predict_classes([X1test, X2test, X3test, X4test, X5test, X6test, X7test, X9test, X10test, X11test, X12test])"
   ]
  },
  {
   "cell_type": "code",
   "execution_count": 28,
   "metadata": {
    "collapsed": false
   },
   "outputs": [
    {
     "data": {
      "text/plain": [
       "array([0, 0, 0, 1, 0, 1, 1, 1, 1, 0, 1, 1, 1, 1, 1, 1, 1, 1, 1, 1, 1, 1, 1,\n",
       "       1, 1, 1, 1, 1, 1, 1, 1, 1, 1, 1, 0, 0, 1, 1, 1, 1, 0, 1, 1, 0, 0, 0,\n",
       "       0, 0, 1, 0, 0, 0, 0, 0, 0, 0, 0, 0, 1, 1, 1, 1], dtype=int32)"
      ]
     },
     "execution_count": 28,
     "metadata": {},
     "output_type": "execute_result"
    }
   ],
   "source": [
    "y_predC=np.squeeze(y_pred)\n",
    "y_predC"
   ]
  },
  {
   "cell_type": "code",
   "execution_count": 29,
   "metadata": {
    "collapsed": true
   },
   "outputs": [],
   "source": [
    "from sklearn.metrics import confusion_matrix\n",
    "from sklearn.metrics import  accuracy_score"
   ]
  },
  {
   "cell_type": "code",
   "execution_count": 30,
   "metadata": {
    "collapsed": false
   },
   "outputs": [
    {
     "name": "stdout",
     "output_type": "stream",
     "text": [
      "0.790322580645\n",
      "[ 3  5  6  7  9 22 23 24 34 35 41 42 48]\n"
     ]
    },
    {
     "data": {
      "text/plain": [
       "array([[19, 10],\n",
       "       [ 3, 30]])"
      ]
     },
     "execution_count": 30,
     "metadata": {},
     "output_type": "execute_result"
    }
   ],
   "source": [
    "print accuracy_score(y_true,y_predC)\n",
    "print np.where(y_true.astype(bool)!=y_predC.astype(bool))[0]\n",
    "confusion_matrix(y_true,y_predC)"
   ]
  },
  {
   "cell_type": "markdown",
   "metadata": {},
   "source": [
    "---"
   ]
  },
  {
   "cell_type": "markdown",
   "metadata": {},
   "source": [
    "---"
   ]
  },
  {
   "cell_type": "markdown",
   "metadata": {},
   "source": [
    "---"
   ]
  },
  {
   "cell_type": "code",
   "execution_count": null,
   "metadata": {
    "collapsed": true
   },
   "outputs": [],
   "source": [
    "from keras.utils.np_utils import to_categorical\n",
    "y_binary = to_categorical(ysq)"
   ]
  },
  {
   "cell_type": "code",
   "execution_count": null,
   "metadata": {
    "collapsed": true
   },
   "outputs": [],
   "source": [
    "def baseline_model():\n",
    "    model=Sequential()\n",
    "    model.add(Convolution3D(10, 3, 3, 3, input_shape=(16, 16, 16,1), border_mode='valid', activation='relu'))\n",
    "    model.add(Flatten())\n",
    "    model.add(Dense(100, init='uniform', activation='tanh'))\n",
    "    model.add(Dense(1, init='uniform', activation='tanh'))\n",
    "    # Compile model\n",
    "    model.compile(loss='binary_crossentropy', optimizer='adam', metrics=['accuracy'])\n",
    "    return model"
   ]
  },
  {
   "cell_type": "code",
   "execution_count": null,
   "metadata": {
    "collapsed": true
   },
   "outputs": [],
   "source": [
    "estimator = KerasClassifier(build_fn=baseline_model, nb_epoch=200, batch_size=10, verbose=0)\n",
    "kfold = KFold(n=len(X), n_folds=8, shuffle=True, random_state=seed)\n",
    "results = cross_val_score(estimator, X, ysq, cv=kfold)\n",
    "print results\n",
    "print results.mean()"
   ]
  },
  {
   "cell_type": "markdown",
   "metadata": {},
   "source": [
    "---"
   ]
  },
  {
   "cell_type": "markdown",
   "metadata": {},
   "source": [
    "---"
   ]
  },
  {
   "cell_type": "markdown",
   "metadata": {},
   "source": [
    "---"
   ]
  },
  {
   "cell_type": "markdown",
   "metadata": {
    "collapsed": true
   },
   "source": [
    "### Model622      \n",
    "\n",
    "callbacks1=EarlyStopping(monitor='loss', mode='auto', patience=30,verbose=0)   \n",
    "callbacks3=ModelCheckpoint('m508_Weights.{epoch:02d}-{val_acc:.2f}.hdf5',monitor='val_acc', verbose=0, save_best_only=True, save_weights_only=False, mode='auto')   \n",
    "\n",
    "adam=Adam(**lr=0.000005**, beta_1=0.9, beta_2=0.999, epsilon=1e-08, decay=1e-04)   \n",
    "\n",
    "model5=Sequential()    \n",
    "model5.add(Convolution3D(10, 3, 3, 3, input_shape=(16, 16, 16,1), border_mode='valid', init='he_normal',**W_regularizer=l2(.05)**))    \n",
    "model5.add(BatchNormalization())    \n",
    "model5.add(Activation('relu'))    \n",
    "model5.add(Flatten())    \n",
    "model5.add(Dropout(0.2))    \n",
    "model5.add(Dense(20, init='glorot_normal', activation='tanh'**, W_regularizer=l2(.05)**))    \n",
    "\n",
    "merged = Merge([model1, model2, model3, model4, model5], mode='concat')    \n",
    "final_model = Sequential()    \n",
    "final_model.add(merged)    \n",
    "final_model.add(Dense(**10**, init='glorot_normal', activation='tanh',**W_regularizer=l2(.05)**))    \n",
    "final_model.add(Dense(1, init='glorot_normal', activation='tanh'))    \n",
    "final_model.compile(loss='binary_crossentropy', optimizer=adam, metrics=['accuracy'])    \n",
    "\n",
    "history=final_model.fit([X1, X2, X3, X4, X5], y, validation_split=0.2, nb_epoch=80, **batch_size=8**,verbose=0, callbacks=[callbacks1,callbacks3]) \n"
   ]
  },
  {
   "cell_type": "markdown",
   "metadata": {
    "collapsed": true
   },
   "source": [
    "### Model627      \n",
    "\n",
    "callbacks1=EarlyStopping(monitor='loss', mode='auto', patience=30,verbose=0)   \n",
    "callbacks3=ModelCheckpoint('m508_Weights.{epoch:02d}-{val_acc:.2f}.hdf5',monitor='val_acc', verbose=0, save_best_only=True, save_weights_only=False, mode='auto')   \n",
    "\n",
    "adam=Adam(**lr=0.000005**, beta_1=0.9, beta_2=0.999, epsilon=1e-08, decay=1e-04)   \n",
    "\n",
    "model5=Sequential()    \n",
    "model5.add(Convolution3D(10, 3, 3, 3, input_shape=(16, 16, 16,1), border_mode='valid', init='he_normal',**W_regularizer=l2(.05)**))    \n",
    "model5.add(BatchNormalization())    \n",
    "model5.add(Activation('relu'))    \n",
    "model5.add(Flatten())    \n",
    "model5.add(Dropout(0.2))    \n",
    "model5.add(Dense(20, init='glorot_normal', activation='tanh'**, W_regularizer=l2(.05)**))    \n",
    "\n",
    "merged = Merge([model1, model2, model3, model4, model5], mode='concat')    \n",
    "final_model = Sequential()    \n",
    "final_model.add(merged)    \n",
    "final_model.add(Dense(**40**, init='glorot_normal', activation='tanh',**W_regularizer=l2(.05)**))    \n",
    "final_model.add(Dense(1, init='glorot_normal', activation='tanh'))    \n",
    "final_model.compile(loss='binary_crossentropy', optimizer=adam, metrics=['accuracy'])    \n",
    "\n",
    "history=final_model.fit([X1, X2, X3, X4, X5], y, validation_split=0.2, nb_epoch=80, **batch_size=8**,verbose=0, callbacks=[callbacks1,callbacks3]) \n"
   ]
  },
  {
   "cell_type": "markdown",
   "metadata": {
    "collapsed": true
   },
   "source": [
    "### Model628      \n",
    "\n",
    "callbacks1=EarlyStopping(monitor='loss', mode='auto', patience=30,verbose=0)   \n",
    "callbacks3=ModelCheckpoint('m508_Weights.{epoch:02d}-{val_acc:.2f}.hdf5',monitor='val_acc', verbose=0, save_best_only=True, save_weights_only=False, mode='auto')   \n",
    "\n",
    "adam=Adam(**lr=0.0000001**, beta_1=0.9, beta_2=0.999, epsilon=1e-08, decay=1e-04)   \n",
    "\n",
    "model5=Sequential()    \n",
    "model5.add(Convolution3D(10, 3, 3, 3, input_shape=(16, 16, 16,1), border_mode='valid', init='he_normal',**W_regularizer=l2(.05)**))    \n",
    "model5.add(BatchNormalization())    \n",
    "model5.add(Activation('relu'))    \n",
    "model5.add(Flatten())    \n",
    "model5.add(Dropout(0.2))    \n",
    "model5.add(Dense(20, init='glorot_normal', activation='tanh'**, W_regularizer=l2(.05)**))    \n",
    "\n",
    "merged = Merge([model1, model2, model3, model4, model5], mode='concat')    \n",
    "final_model = Sequential()    \n",
    "final_model.add(merged)    \n",
    "final_model.add(Dense(**40**, init='glorot_normal', activation='tanh',**W_regularizer=l2(.05)**))    \n",
    "final_model.add(Dense(1, init='glorot_normal', activation='tanh'))    \n",
    "final_model.compile(loss='binary_crossentropy', optimizer=adam, metrics=['accuracy'])    \n",
    "\n",
    "history=final_model.fit([X1, X2, X3, X4, X5], y, validation_split=0.2, nb_epoch=80, **batch_size=8**,verbose=0, callbacks=[callbacks1,callbacks3]) \n"
   ]
  },
  {
   "cell_type": "markdown",
   "metadata": {
    "collapsed": true
   },
   "source": [
    "### Model629      \n",
    "\n",
    "callbacks1=EarlyStopping(monitor='loss', mode='auto', patience=30,verbose=0)   \n",
    "callbacks3=ModelCheckpoint('m508_Weights.{epoch:02d}-{val_acc:.2f}.hdf5',monitor='val_acc', verbose=0, save_best_only=True, save_weights_only=False, mode='auto')   \n",
    "\n",
    "adam=Adam(**lr=0.000001**, beta_1=0.9, beta_2=0.999, epsilon=1e-08, decay=1e-04)   \n",
    "\n",
    "model5=Sequential()    \n",
    "model5.add(Convolution3D(10, 3, 3, 3, input_shape=(16, 16, 16,1), border_mode='valid', init='he_normal',**W_regularizer=l2(.05)**))    \n",
    "model5.add(BatchNormalization())    \n",
    "model5.add(Activation('relu'))    \n",
    "model5.add(Flatten())    \n",
    "model5.add(Dropout(0.2))    \n",
    "model5.add(Dense(20, init='glorot_normal', activation='tanh'**, W_regularizer=l2(.05)**))    \n",
    "\n",
    "merged = Merge([model1, model2, model3, model4, model5], mode='concat')    \n",
    "final_model = Sequential()    \n",
    "final_model.add(merged)    \n",
    "final_model.add(Dense(**10**, init='glorot_normal', activation='tanh',**W_regularizer=l2(.05)**))    \n",
    "final_model.add(Dense(1, init='glorot_normal', activation='tanh'))    \n",
    "final_model.compile(loss='binary_crossentropy', optimizer=adam, metrics=['accuracy'])    \n",
    "\n",
    "history=final_model.fit([X1, X2, X3, X4, X5], y, validation_split=0.2, nb_epoch=80, **batch_size=8**,verbose=0, callbacks=[callbacks1,callbacks3]) \n"
   ]
  },
  {
   "cell_type": "markdown",
   "metadata": {
    "collapsed": true
   },
   "source": [
    "### Model630      \n",
    "\n",
    "callbacks1=EarlyStopping(monitor='loss', mode='auto', patience=30,verbose=0)   \n",
    "callbacks3=ModelCheckpoint('m508_Weights.{epoch:02d}-{val_acc:.2f}.hdf5',monitor='val_acc', verbose=0, save_best_only=True, save_weights_only=False, mode='auto')   \n",
    "\n",
    "adam=Adam(**lr=0.0000005**, beta_1=0.9, beta_2=0.999, epsilon=1e-08, decay=1e-04)   \n",
    "\n",
    "model5=Sequential()    \n",
    "model5.add(Convolution3D(10, 3, 3, 3, input_shape=(16, 16, 16,1), border_mode='valid', init='he_normal',**W_regularizer=l2(.05)**))    \n",
    "model5.add(BatchNormalization())    \n",
    "model5.add(Activation('relu'))    \n",
    "model5.add(Flatten())    \n",
    "model5.add(Dropout(0.2))    \n",
    "model5.add(Dense(20, init='glorot_normal', activation='tanh'**, W_regularizer=l2(.05)**))    \n",
    "\n",
    "merged = Merge([model1, model2, model3, model4, model5], mode='concat')    \n",
    "final_model = Sequential()    \n",
    "final_model.add(merged)    \n",
    "final_model.add(Dense(**10**, init='glorot_normal', activation='tanh',**W_regularizer=l2(.05)**))    \n",
    "final_model.add(Dense(1, init='glorot_normal', activation='tanh'))    \n",
    "final_model.compile(loss='binary_crossentropy', optimizer=adam, metrics=['accuracy'])    \n",
    "\n",
    "history=final_model.fit([X1, X2, X3, X4, X5], y, validation_split=0.2, nb_epoch=80, **batch_size=8**,verbose=0, callbacks=[callbacks1,callbacks3]) \n"
   ]
  },
  {
   "cell_type": "markdown",
   "metadata": {
    "collapsed": true
   },
   "source": [
    "### Model631      \n",
    "\n",
    "callbacks1=EarlyStopping(monitor='loss', mode='auto', patience=30,verbose=0)   \n",
    "callbacks3=ModelCheckpoint('m508_Weights.{epoch:02d}-{val_acc:.2f}.hdf5',monitor='val_acc', verbose=0, save_best_only=True, save_weights_only=False, mode='auto')   \n",
    "\n",
    "adam=Adam(**lr=0.000001**, beta_1=0.9, beta_2=0.999, epsilon=1e-08, decay=1e-04)   \n",
    "\n",
    "model5=Sequential()    \n",
    "model5.add(Convolution3D(10, 3, 3, 3, input_shape=(16, 16, 16,1), border_mode='valid', init='he_normal',**W_regularizer=l2(.05)**))    \n",
    "model5.add(BatchNormalization())    \n",
    "model5.add(Activation('relu'))    \n",
    "model5.add(Flatten())    \n",
    "model5.add(Dropout(0.2))    \n",
    "model5.add(Dense(20, init='glorot_normal', activation='tanh'**, W_regularizer=l2(.05)**))    \n",
    "\n",
    "merged = Merge([model1, model2, model3, model4, model5], mode='concat')    \n",
    "final_model = Sequential()    \n",
    "final_model.add(merged)    \n",
    "final_model.add(Dense(**40**, init='glorot_normal', activation='tanh',**W_regularizer=l2(.05)**))    \n",
    "final_model.add(Dense(1, init='glorot_normal', activation='tanh'))    \n",
    "final_model.compile(loss='binary_crossentropy', optimizer=adam, metrics=['accuracy'])    \n",
    "\n",
    "history=final_model.fit([X1, X2, X3, X4, X5], y, validation_split=0.2, nb_epoch=80, **batch_size=8**,verbose=0, callbacks=[callbacks1,callbacks3]) \n"
   ]
  },
  {
   "cell_type": "markdown",
   "metadata": {
    "collapsed": true
   },
   "source": [
    "### Model632      \n",
    "\n",
    "callbacks1=EarlyStopping(monitor='loss', mode='auto', patience=30,verbose=0)   \n",
    "callbacks3=ModelCheckpoint('m508_Weights.{epoch:02d}-{val_acc:.2f}.hdf5',monitor='val_acc', verbose=0, save_best_only=True, save_weights_only=False, mode='auto')   \n",
    "\n",
    "adam=Adam(**lr=0.000001**, beta_1=0.9, beta_2=0.999, epsilon=1e-08, decay=1e-04)   \n",
    "\n",
    "model5=Sequential()    \n",
    "model5.add(Convolution3D(10, 3, 3, 3, input_shape=(16, 16, 16,1), border_mode='valid', init='he_normal',**W_regularizer=l2(.05)**))    \n",
    "model5.add(BatchNormalization())    \n",
    "model5.add(Activation('relu'))    \n",
    "model5.add(Flatten())    \n",
    "model5.add(Dropout(0.2))    \n",
    "model5.add(Dense(20, init='glorot_normal', activation='tanh'**, W_regularizer=l2(.05)**))    \n",
    "\n",
    "merged = Merge([model1, model2, model3, model4, model5], mode='concat')    \n",
    "final_model = Sequential()    \n",
    "final_model.add(merged)    \n",
    "final_model.add(Dense(**20**, init='glorot_normal', activation='tanh',**W_regularizer=l2(.05)**))    \n",
    "**final_model.add(Dense(20, init='glorot_normal', activation='tanh',W_regularizer=l2(.05)))    **\n",
    "final_model.add(Dense(1, init='glorot_normal', activation='tanh'))    \n",
    "final_model.compile(loss='binary_crossentropy', optimizer=adam, metrics=['accuracy'])    \n",
    "\n",
    "history=final_model.fit([X1, X2, X3, X4, X5], y, validation_split=0.2, nb_epoch=80, **batch_size=8**,verbose=0, callbacks=[callbacks1,callbacks3]) \n"
   ]
  },
  {
   "cell_type": "markdown",
   "metadata": {},
   "source": [
    "### Model633      \n",
    "\n",
    "callbacks1=EarlyStopping(monitor='loss', mode='auto', patience=30,verbose=0)   \n",
    "callbacks3=ModelCheckpoint('m508_Weights.{epoch:02d}-{val_acc:.2f}.hdf5',monitor='val_acc', verbose=0, save_best_only=True, save_weights_only=False, mode='auto')   \n",
    "\n",
    "adam=Adam(**lr=0.000001**, beta_1=0.9, beta_2=0.999, epsilon=1e-08, decay=1e-04)   \n",
    "\n",
    "model5=Sequential()    \n",
    "model5.add(Convolution3D(10, 3, 3, 3, input_shape=(16, 16, 16,1), border_mode='valid', init='he_normal',**W_regularizer=l2(.05)**))    \n",
    "model5.add(BatchNormalization())    \n",
    "model5.add(Activation('relu'))    \n",
    "model5.add(Flatten())    \n",
    "model5.add(Dropout(0.2))    \n",
    "model5.add(Dense(20, init='glorot_normal', activation='tanh'**, W_regularizer=l2(.05)**))    \n",
    "\n",
    "merged = Merge([model1, model2, model3, model4, model5], mode='concat')    \n",
    "final_model = Sequential()    \n",
    "final_model.add(merged)    \n",
    "final_model.add(Dense(**10**, init='glorot_normal', activation='tanh',**W_regularizer=l2(.05)**))    \n",
    "**final_model.add(Dense(10, init='glorot_normal', activation='tanh',W_regularizer=l2(.05)))**    \n",
    "final_model.add(Dense(1, init='glorot_normal', activation='tanh'))    \n",
    "final_model.compile(loss='binary_crossentropy', optimizer=adam, metrics=['accuracy'])    \n",
    "\n",
    "history=final_model.fit([X1, X2, X3, X4, X5], y, validation_split=0.2, nb_epoch=80, **batch_size=8**,verbose=0, callbacks=[callbacks1,callbacks3]) \n"
   ]
  },
  {
   "cell_type": "markdown",
   "metadata": {},
   "source": [
    "### Model634      \n",
    "\n",
    "callbacks1=EarlyStopping(monitor='loss', mode='auto', patience=30,verbose=0)   \n",
    "callbacks3=ModelCheckpoint('m508_Weights.{epoch:02d}-{val_acc:.2f}.hdf5',monitor='val_acc', verbose=0, save_best_only=True, save_weights_only=False, mode='auto')   \n",
    "\n",
    "adam=Adam(**lr=0.000001**, beta_1=0.9, beta_2=0.999, epsilon=1e-08, decay=1e-04)   \n",
    "\n",
    "model5=Sequential()    \n",
    "model5.add(Convolution3D(10, 3, 3, 3, input_shape=(16, 16, 16,1), border_mode='valid', init='he_normal',**W_regularizer=l2(.05)**))    \n",
    "model5.add(BatchNormalization())    \n",
    "model5.add(Activation('relu'))    \n",
    "model5.add(Flatten())    \n",
    "model5.add(Dropout(0.2))    \n",
    "model5.add(Dense(20, init='glorot_normal', activation='tanh'**, W_regularizer=l2(.05)**))    \n",
    "\n",
    "merged = Merge([model1, model2, model3, model4, model5], mode='concat')    \n",
    "final_model = Sequential()    \n",
    "final_model.add(merged)    \n",
    "final_model.add(Dense(**10**, init='glorot_normal', activation='tanh',**W_regularizer=l2(.05)**))    \n",
    "**final_model.add(Dense(10, init='glorot_normal', activation='tanh',W_regularizer=l2(.05)))**    \n",
    "final_model.add(Dense(1, init='glorot_normal', activation='tanh'))    \n",
    "final_model.compile(loss='binary_crossentropy', optimizer=adam, metrics=['accuracy'])    \n",
    "\n",
    "history=final_model.fit([X1, X2, X3, X4, X5, X6, **X7, X8, X9**], y, validation_split=0.2, nb_epoch=80, **batch_size=8**,verbose=0, callbacks=[callbacks1,callbacks3]) \n"
   ]
  },
  {
   "cell_type": "markdown",
   "metadata": {},
   "source": [
    "### Model635      \n",
    "\n",
    "callbacks1=EarlyStopping(monitor='loss', mode='auto', patience=30,verbose=0)   \n",
    "callbacks3=ModelCheckpoint('m508_Weights.{epoch:02d}-{val_acc:.2f}.hdf5',monitor='val_acc', verbose=0, save_best_only=True, save_weights_only=False, mode='auto')   \n",
    "\n",
    "adam=Adam(**lr=0.000001**, beta_1=0.9, beta_2=0.999, epsilon=1e-08, decay=1e-04)   \n",
    "\n",
    "model5=Sequential()    \n",
    "model5.add(Convolution3D(10, 3, 3, 3, input_shape=(16, 16, 16,1), border_mode='valid', init='he_normal',**W_regularizer=l2(.05)**))    \n",
    "model5.add(BatchNormalization())    \n",
    "model5.add(Activation('relu'))    \n",
    "**model5.add(Convolution3D(10, 3, 3, 3, border_mode='valid', init='he_normal',**W_regularizer=l2(.05)**))    \n",
    "model5.add(BatchNormalization())    \n",
    "model5.add(Activation('relu'))**    \n",
    "\n",
    "model5.add(Flatten())    \n",
    "model5.add(Dropout(0.2))    \n",
    "model5.add(Dense(20, init='glorot_normal', activation='tanh'**, W_regularizer=l2(.05)**))    \n",
    "\n",
    "merged = Merge([model1, model2, model3, model4, model5], mode='concat')    \n",
    "final_model = Sequential()    \n",
    "final_model.add(merged)    \n",
    "final_model.add(Dense(**10**, init='glorot_normal', activation='tanh',**W_regularizer=l2(.05)**))    \n",
    "**final_model.add(Dense(10, init='glorot_normal', activation='tanh',W_regularizer=l2(.05)))**    \n",
    "final_model.add(Dense(1, init='glorot_normal', activation='tanh'))    \n",
    "final_model.compile(loss='binary_crossentropy', optimizer=adam, metrics=['accuracy'])    \n",
    "\n",
    "history=final_model.fit([X1, X2, X3, X4, X5], y, validation_split=0.2, nb_epoch=80, **batch_size=8**,verbose=0, callbacks=[callbacks1,callbacks3]) \n"
   ]
  },
  {
   "cell_type": "markdown",
   "metadata": {},
   "source": [
    "### Model636      \n",
    "\n",
    "callbacks1=EarlyStopping(monitor='loss', mode='auto', patience=30,verbose=0)   \n",
    "callbacks3=ModelCheckpoint('m508_Weights.{epoch:02d}-{val_acc:.2f}.hdf5',monitor='val_acc', verbose=0, save_best_only=True, save_weights_only=False, mode='auto')   \n",
    "\n",
    "adam=Adam(**lr=0.0000005**, beta_1=0.9, beta_2=0.999, epsilon=1e-08, decay=1e-04)   \n",
    "\n",
    "model5=Sequential()    \n",
    "model5.add(Convolution3D(10, 3, 3, 3, input_shape=(16, 16, 16,1), border_mode='valid', init='he_normal',**W_regularizer=l2(.05)**))    \n",
    "model5.add(BatchNormalization())    \n",
    "model5.add(Activation('relu'))    \n",
    "**model5.add(Convolution3D(10, 3, 3, 3, border_mode='valid', init='he_normal',**W_regularizer=l2(.05)**))    \n",
    "model5.add(BatchNormalization())    \n",
    "model5.add(Activation('relu'))**    \n",
    "\n",
    "model5.add(Flatten())    \n",
    "model5.add(Dropout(0.2))    \n",
    "model5.add(Dense(20, init='glorot_normal', activation='tanh'**, W_regularizer=l2(.05)**))    \n",
    "\n",
    "merged = Merge([model1, model2, model3, model4, model5], mode='concat')    \n",
    "final_model = Sequential()    \n",
    "final_model.add(merged)    \n",
    "final_model.add(Dense(**10**, init='glorot_normal', activation='tanh',**W_regularizer=l2(.05)**))    \n",
    "**final_model.add(Dense(10, init='glorot_normal', activation='tanh',W_regularizer=l2(.05)))**    \n",
    "final_model.add(Dense(1, init='glorot_normal', activation='tanh'))    \n",
    "final_model.compile(loss='binary_crossentropy', optimizer=adam, metrics=['accuracy'])    \n",
    "\n",
    "history=final_model.fit([X1, X2, X3, X4, X5], y, validation_split=0.2, nb_epoch=80, **batch_size=8**,verbose=0, callbacks=[callbacks1,callbacks3]) \n"
   ]
  },
  {
   "cell_type": "markdown",
   "metadata": {},
   "source": [
    "### Model637      \n",
    "\n",
    "callbacks1=EarlyStopping(monitor='loss', mode='auto', patience=30,verbose=0)   \n",
    "callbacks3=ModelCheckpoint('m508_Weights.{epoch:02d}-{val_acc:.2f}.hdf5',monitor='val_acc', verbose=0, save_best_only=True, save_weights_only=False, mode='auto')   \n",
    "\n",
    "adam=Adam(**lr=0.0000001**, beta_1=0.9, beta_2=0.999, epsilon=1e-08, decay=1e-04)   \n",
    "\n",
    "model5=Sequential()    \n",
    "model5.add(Convolution3D(10, 3, 3, 3, input_shape=(16, 16, 16,1), border_mode='valid', init='he_normal',**W_regularizer=l2(.05)**))    \n",
    "model5.add(BatchNormalization())    \n",
    "model5.add(Activation('relu'))    \n",
    "**model5.add(Convolution3D(10, 3, 3, 3, border_mode='valid', init='he_normal',**W_regularizer=l2(.05)**))    \n",
    "model5.add(BatchNormalization())    \n",
    "model5.add(Activation('relu'))**    \n",
    "\n",
    "model5.add(Flatten())    \n",
    "model5.add(Dropout(0.2))    \n",
    "model5.add(Dense(20, init='glorot_normal', activation='tanh'**, W_regularizer=l2(.05)**))    \n",
    "\n",
    "merged = Merge([model1, model2, model3, model4, model5], mode='concat')    \n",
    "final_model = Sequential()    \n",
    "final_model.add(merged)    \n",
    "final_model.add(Dense(**10**, init='glorot_normal', activation='tanh',**W_regularizer=l2(.05)**))    \n",
    "**final_model.add(Dense(10, init='glorot_normal', activation='tanh',W_regularizer=l2(.05)))**    \n",
    "final_model.add(Dense(1, init='glorot_normal', activation='tanh'))    \n",
    "final_model.compile(loss='binary_crossentropy', optimizer=adam, metrics=['accuracy'])    \n",
    "\n",
    "history=final_model.fit([X1, X2, X3, X4, X5], y, validation_split=0.2, nb_epoch=80, **batch_size=8**,verbose=0, callbacks=[callbacks1,callbacks3]) \n"
   ]
  },
  {
   "cell_type": "markdown",
   "metadata": {
    "collapsed": true
   },
   "source": [
    "### Model638      \n",
    "\n",
    "callbacks1=EarlyStopping(monitor='loss', mode='auto', patience=30,verbose=0)   \n",
    "callbacks3=ModelCheckpoint('m508_Weights.{epoch:02d}-{val_acc:.2f}.hdf5',monitor='val_acc', verbose=0, save_best_only=True, save_weights_only=False, mode='auto')   \n",
    "\n",
    "adam=Adam(**lr=0.000005**, beta_1=0.9, beta_2=0.999, epsilon=1e-08, decay=1e-04)   \n",
    "\n",
    "model5=Sequential()    \n",
    "model5.add(Convolution3D(10, 3, 3, 3, input_shape=(16, 16, 16,1), border_mode='valid', init='he_normal',**W_regularizer=l2(.05)**))    \n",
    "model5.add(BatchNormalization())    \n",
    "model5.add(Activation('relu'))    \n",
    "model5.add(Flatten())    \n",
    "model5.add(Dropout(0.2))    \n",
    "model5.add(Dense(20, init='glorot_normal', activation='tanh'**, W_regularizer=l2(.05)**))    \n",
    "\n",
    "merged = Merge([model1, model2, model3, model4, model5], mode='concat')    \n",
    "final_model = Sequential()    \n",
    "final_model.add(merged)    \n",
    "final_model.add(Dense(**10**, init='glorot_normal', activation=**'relu'**,W_regularizer=l2(.05)))    \n",
    "final_model.add(Dense(1, init='glorot_normal', activation=**'relu'**))    \n",
    "final_model.compile(loss='binary_crossentropy', optimizer=adam, metrics=['accuracy'])    \n",
    "\n",
    "history=final_model.fit([X1, X2, X3, X4, X5], y, validation_split=0.2, nb_epoch=80, **batch_size=8**,verbose=0, callbacks=[callbacks1,callbacks3]) \n"
   ]
  },
  {
   "cell_type": "code",
   "execution_count": null,
   "metadata": {
    "collapsed": true
   },
   "outputs": [],
   "source": [
    "class Callback(object):\n",
    "    '''Abstract base class used to build new callbacks.\n",
    "    # Properties\n",
    "        params: dict. Training parameters\n",
    "            (eg. verbosity, batch size, number of epochs...).\n",
    "        model: instance of `keras.models.Model`.\n",
    "            Reference of the model being trained.\n",
    "    The `logs` dictionary that callback methods\n",
    "    take as argument will contain keys for quantities relevant to\n",
    "    the current batch or epoch.\n",
    "    Currently, the `.fit()` method of the `Sequential` model class\n",
    "    will include the following quantities in the `logs` that\n",
    "    it passes to its callbacks:\n",
    "        on_epoch_end: logs include `acc` and `loss`, and\n",
    "            optionally include `val_loss`\n",
    "            (if validation is enabled in `fit`), and `val_acc`\n",
    "            (if validation and accuracy monitoring are enabled).\n",
    "        on_batch_begin: logs include `size`,\n",
    "            the number of samples in the current batch.\n",
    "        on_batch_end: logs include `loss`, and optionally `acc`\n",
    "            (if accuracy monitoring is enabled).\n",
    "    '''\n",
    "    def __init__(self):\n",
    "        pass\n",
    "\n",
    "    def _set_params(self, params):\n",
    "        self.params = params\n",
    "\n",
    "    def _set_model(self, model):\n",
    "        self.model = model\n",
    "\n",
    "    def on_epoch_begin(self, epoch, logs={}):\n",
    "        pass\n",
    "\n",
    "    def on_epoch_end(self, epoch, logs={}):\n",
    "        pass\n",
    "\n",
    "    def on_batch_begin(self, batch, logs={}):\n",
    "        pass\n",
    "\n",
    "    def on_batch_end(self, batch, logs={}):\n",
    "        pass\n",
    "\n",
    "    def on_train_begin(self, logs={}):\n",
    "        pass\n",
    "\n",
    "    def on_train_end(self, logs={}):\n",
    "        pass"
   ]
  },
  {
   "cell_type": "code",
   "execution_count": null,
   "metadata": {
    "collapsed": false
   },
   "outputs": [],
   "source": [
    "class ReduceLROnPlateau(Callback):\n",
    "    '''Reduce learning rate when a metric has stopped improving.\n",
    "    Models often benefit from reducing the learning rate by a factor\n",
    "    of 2-10 once learning stagnates. This callback monitors a\n",
    "    quantity and if no improvement is seen for a 'patience' number\n",
    "    of epochs, the learning rate is reduced.\n",
    "    # Example\n",
    "        ```python\n",
    "            reduce_lr = ReduceLROnPlateau(monitor='val_loss', factor=0.2,\n",
    "                                          patience=5, min_lr=0.001)\n",
    "            model.fit(X_train, Y_train, callbacks=[reduce_lr])\n",
    "        ```\n",
    "    # Arguments\n",
    "        monitor: quantity to be monitored.\n",
    "        factor: factor by which the learning rate will\n",
    "            be reduced. new_lr = lr * factor\n",
    "        patience: number of epochs with no improvement\n",
    "            after which learning rate will be reduced.\n",
    "        verbose: int. 0: quiet, 1: update messages.\n",
    "        mode: one of {auto, min, max}. In `min` mode,\n",
    "            lr will be reduced when the quantity\n",
    "            monitored has stopped decreasing; in `max`\n",
    "            mode it will be reduced when the quantity\n",
    "            monitored has stopped increasing; in `auto`\n",
    "            mode, the direction is automatically inferred\n",
    "            from the name of the monitored quantity.\n",
    "        epsilon: threshold for measuring the new optimum,\n",
    "            to only focus on significant changes.\n",
    "        cooldown: number of epochs to wait before resuming\n",
    "            normal operation after lr has been reduced.\n",
    "        min_lr: lower bound on the learning rate.\n",
    "    '''\n",
    "\n",
    "    def __init__(self, monitor='val_loss', factor=0.1, patience=10,\n",
    "                 verbose=0, mode='auto', epsilon=1e-4, cooldown=0, min_lr=0):\n",
    "        super(Callback, self).__init__()\n",
    "\n",
    "        self.monitor = monitor\n",
    "        if factor >= 1.0:\n",
    "            raise ValueError('ReduceLROnPlateau does not support a factor >= 1.0.')\n",
    "        self.factor = factor\n",
    "        self.min_lr = min_lr\n",
    "        self.epsilon = epsilon\n",
    "        self.patience = patience\n",
    "        self.verbose = verbose\n",
    "        self.cooldown = cooldown\n",
    "        self.cooldown_counter = 0  # Cooldown counter.\n",
    "        self.wait = 0\n",
    "        self.best = 0\n",
    "        self.mode = mode\n",
    "        self.monitor_op = None\n",
    "        self.reset()\n",
    "\n",
    "    def reset(self):\n",
    "        if self.mode not in ['auto', 'min', 'max']:\n",
    "            warnings.warn('Learning Rate Plateau Reducing mode %s is unknown, '\n",
    "                          'fallback to auto mode.' % (self.mode), RuntimeWarning)\n",
    "            self.mode = 'auto'\n",
    "        if self.mode == 'min' or (self.mode == 'auto' and 'acc' not in self.monitor):\n",
    "            self.monitor_op = lambda a, b: np.less(a, b - self.epsilon)\n",
    "            self.best = np.Inf\n",
    "        else:\n",
    "            self.monitor_op = lambda a, b: np.greater(a, b + self.epsilon)\n",
    "            self.best = -np.Inf\n",
    "        self.cooldown_counter = 0\n",
    "        self.wait = 0\n",
    "        self.lr_epsilon = self.min_lr * 1e-4\n",
    "\n",
    "    def on_train_begin(self, logs={}):\n",
    "        self.reset()\n",
    "\n",
    "    def on_epoch_end(self, epoch, logs={}):\n",
    "        logs['lr'] = K.get_value(self.model.optimizer.lr)\n",
    "        current = logs.get(self.monitor)\n",
    "        if current is None:\n",
    "            warnings.warn('Learning Rate Plateau Reducing requires %s available!' %\n",
    "                          self.monitor, RuntimeWarning)\n",
    "        else:\n",
    "            if self.in_cooldown():\n",
    "                self.cooldown_counter -= 1\n",
    "                self.wait = 0\n",
    "\n",
    "            if self.monitor_op(current, self.best):\n",
    "                self.best = current\n",
    "                self.wait = 0\n",
    "            elif not self.in_cooldown():\n",
    "                if self.wait >= self.patience:\n",
    "                    old_lr = float(K.get_value(self.model.optimizer.lr))\n",
    "                    if old_lr > self.min_lr + self.lr_epsilon:\n",
    "                        new_lr = old_lr * self.factor\n",
    "                        new_lr = max(new_lr, self.min_lr)\n",
    "                        K.set_value(self.model.optimizer.lr, new_lr)\n",
    "                        if self.verbose > 0:\n",
    "                            print('\\nEpoch %05d: reducing learning rate to %s.' % (epoch, new_lr))\n",
    "                        self.cooldown_counter = self.cooldown\n",
    "                        self.wait = 0\n",
    "                self.wait += 1\n",
    "\n",
    "    def in_cooldown(self):\n",
    "        return self.cooldown_counter > 0"
   ]
  },
  {
   "cell_type": "code",
   "execution_count": null,
   "metadata": {
    "collapsed": true
   },
   "outputs": [],
   "source": [
    "# To load a model\n",
    "\n",
    "from keras.models import load_model\n",
    "from sklearn.metrics import confusion_matrix\n",
    "from sklearn.metrics import  accuracy_score\n",
    "\n",
    "model=load_model('m504a.h5')\n",
    "\n",
    "y_predC=model.predict_classes([X1test, X2test, X3test, X4test, X5test])\n",
    "y_predC=np.squeeze(y_predC)\n",
    "\n",
    "namesTest=pd.read_csv('scansTestFold1/scansNamesTestFold1.csv')\n",
    "namesTestDF=pd.DataFrame(namesTest)\n",
    "y_true=namesTestDF.label.values.astype(int)\n",
    "\n",
    "print accuracy_score(y_true,y_predC)\n",
    "confusion_matrix(y_true,y_predC)"
   ]
  }
 ],
 "metadata": {
  "kernelspec": {
   "display_name": "Python 2",
   "language": "python",
   "name": "python2"
  },
  "language_info": {
   "codemirror_mode": {
    "name": "ipython",
    "version": 2
   },
   "file_extension": ".py",
   "mimetype": "text/x-python",
   "name": "python",
   "nbconvert_exporter": "python",
   "pygments_lexer": "ipython2",
   "version": "2.7.12"
  }
 },
 "nbformat": 4,
 "nbformat_minor": 0
}

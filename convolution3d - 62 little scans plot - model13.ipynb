{
 "cells": [
  {
   "cell_type": "code",
   "execution_count": 1,
   "metadata": {
    "collapsed": false
   },
   "outputs": [],
   "source": [
    "import scipy.io\n",
    "import numpy as np, h5py\n",
    "import matplotlib.pyplot as plt\n",
    "import copy\n",
    "import pickle\n",
    "%matplotlib inline"
   ]
  },
  {
   "cell_type": "code",
   "execution_count": 2,
   "metadata": {
    "collapsed": false
   },
   "outputs": [
    {
     "name": "stdout",
     "output_type": "stream",
     "text": [
      "(16, 16, 16, 62)\n"
     ]
    }
   ],
   "source": [
    "data = h5py.File('littleScans62Demean.mat', 'r')\n",
    "Xscans=data.get('littleScans')\n",
    "print Xscans.shape"
   ]
  },
  {
   "cell_type": "code",
   "execution_count": 3,
   "metadata": {
    "collapsed": false
   },
   "outputs": [
    {
     "name": "stdout",
     "output_type": "stream",
     "text": [
      "(62, 16, 16, 16, 1)\n"
     ]
    }
   ],
   "source": [
    "X=copy.copy(Xscans)\n",
    "X=np.expand_dims(X,0)\n",
    "X=X.reshape((62, 16, 16, 16, 1))\n",
    "print X.shape"
   ]
  },
  {
   "cell_type": "code",
   "execution_count": 4,
   "metadata": {
    "collapsed": false
   },
   "outputs": [],
   "source": [
    "y=np.zeros((np.shape(X)[0],1))\n",
    "y[:26]=1\n",
    "ysq=np.squeeze(y).astype(int)"
   ]
  },
  {
   "cell_type": "code",
   "execution_count": 5,
   "metadata": {
    "collapsed": false,
    "scrolled": false
   },
   "outputs": [
    {
     "data": {
      "text/plain": [
       "<matplotlib.collections.PolyCollection at 0x7f6c7d3fc190>"
      ]
     },
     "execution_count": 5,
     "metadata": {},
     "output_type": "execute_result"
    },
    {
     "data": {
      "image/png": "[encoded data removed]",
      "text/plain": [
       "<matplotlib.figure.Figure at 0x7f6c7d452e50>"
      ]
     },
     "metadata": {},
     "output_type": "display_data"
    }
   ],
   "source": [
    "plt.pcolor(Xscans[0,:,:,10])"
   ]
  },
  {
   "cell_type": "code",
   "execution_count": 6,
   "metadata": {
    "collapsed": false
   },
   "outputs": [
    {
     "name": "stderr",
     "output_type": "stream",
     "text": [
      "Using TensorFlow backend.\n"
     ]
    }
   ],
   "source": [
    "from keras.models import Sequential\n",
    "from keras.layers import Dense\n",
    "from keras.layers.convolutional import Convolution3D\n",
    "from keras.layers.pooling import MaxPooling3D\n",
    "from keras.layers.core import Dense, Flatten\n",
    "from keras.layers import Dropout\n",
    "import time"
   ]
  },
  {
   "cell_type": "code",
   "execution_count": 7,
   "metadata": {
    "collapsed": false
   },
   "outputs": [],
   "source": [
    "from keras.utils.np_utils import to_categorical\n",
    "y_binary = to_categorical(ysq)"
   ]
  },
  {
   "cell_type": "markdown",
   "metadata": {
    "collapsed": true
   },
   "source": [
    "image dimension order according https://www.youtube.com/watch?v=38ASRfA23t0   \n",
    "tf: inputshape=(img_rows, img_cols,img_channels)   \n",
    "theano: inputshape=(img_channels,img_rows, img_cols)"
   ]
  },
  {
   "cell_type": "code",
   "execution_count": 17,
   "metadata": {
    "collapsed": false
   },
   "outputs": [],
   "source": [
    "model.reset_states()"
   ]
  },
  {
   "cell_type": "code",
   "execution_count": 8,
   "metadata": {
    "collapsed": false
   },
   "outputs": [],
   "source": [
    "model=Sequential()\n",
    "model.add(Convolution3D(10, 3, 3, 3, input_shape=(16, 16, 16,1), border_mode='valid', activation='relu'))\n",
    "model.add(Flatten())\n",
    "model.add(Dense(100, init='uniform', activation='tanh'))\n",
    "model.add(Dense(2, init='uniform', activation='tanh'))\n",
    "# Compile model\n",
    "model.compile(loss='binary_crossentropy', optimizer='adam', metrics=['accuracy'])"
   ]
  },
  {
   "cell_type": "code",
   "execution_count": 9,
   "metadata": {
    "collapsed": false,
    "scrolled": false
   },
   "outputs": [
    {
     "name": "stdout",
     "output_type": "stream",
     "text": [
      "0.153480479452\n"
     ]
    }
   ],
   "source": [
    "# Fit the model\n",
    "t0 = time.time()\n",
    "history=model.fit(X, y_binary, nb_epoch=50, batch_size=10,verbose=0)\n",
    "t1 = time.time()\n",
    "print (t1-t0)/60/60"
   ]
  },
  {
   "cell_type": "code",
   "execution_count": 11,
   "metadata": {
    "collapsed": false
   },
   "outputs": [],
   "source": [
    "model.save('m13c_50.h5')"
   ]
  },
  {
   "cell_type": "code",
   "execution_count": 19,
   "metadata": {
    "collapsed": false
   },
   "outputs": [
    {
     "name": "stdout",
     "output_type": "stream",
     "text": [
      "(62, 2)\n",
      "<type 'numpy.ndarray'>\n",
      "(62,)\n",
      "<type 'numpy.ndarray'>\n"
     ]
    }
   ],
   "source": [
    "print np.shape(y_binary)\n",
    "print type(y_binary)\n",
    "#print y_binary\n",
    "y_binary1=y_binary[:,0]\n",
    "print np.shape(y_binary1)\n",
    "print type(y_binary1)"
   ]
  },
  {
   "cell_type": "code",
   "execution_count": 10,
   "metadata": {
    "collapsed": false
   },
   "outputs": [
    {
     "data": {
      "image/png": "[encoded data removed]",
      "text/plain": [
       "<matplotlib.figure.Figure at 0x7f6c7065d290>"
      ]
     },
     "metadata": {},
     "output_type": "display_data"
    },
    {
     "data": {
      "image/png": "[encoded data removed]",
      "text/plain": [
       "<matplotlib.figure.Figure at 0x7f6c705e3750>"
      ]
     },
     "metadata": {},
     "output_type": "display_data"
    }
   ],
   "source": [
    "###### PLOTS summarize history for accuracy\n",
    "plt.plot(history.history['acc'])\n",
    "#plt.plot(history.history['val_acc'])\n",
    "plt.title('model accuracy')\n",
    "plt.ylabel('accuracy')\n",
    "plt.xlabel('epoch')\n",
    "plt.legend(['train','test'], loc='lower right')\n",
    "plt.ylim([0, 1])\n",
    "plt.show()\n",
    "# summarize history for accuracy\n",
    "plt.plot(history.history['loss'])\n",
    "#plt.plot(history.history['val_loss'])\n",
    "plt.title('model loss')\n",
    "plt.ylabel('loss')\n",
    "plt.xlabel('epoch')\n",
    "plt.legend(['train','test'], loc='upper right')\n",
    "#plt.ylim([0, 1])\n",
    "plt.show()"
   ]
  },
  {
   "cell_type": "code",
   "execution_count": 14,
   "metadata": {
    "collapsed": false
   },
   "outputs": [
    {
     "data": {
      "text/plain": [
       "[0.66935483870967738,\n",
       " 0.68548387096774188,\n",
       " 0.67741935483870963,\n",
       " 0.67741935483870963,\n",
       " 0.64516129032258063,\n",
       " 0.62096774193548387,\n",
       " 0.66935483870967738,\n",
       " 0.66129032258064513,\n",
       " 0.64516129032258063]"
      ]
     },
     "execution_count": 14,
     "metadata": {},
     "output_type": "execute_result"
    }
   ],
   "source": [
    "history.history['acc'][-10:-1]"
   ]
  },
  {
   "cell_type": "markdown",
   "metadata": {
    "collapsed": true
   },
   "source": [
    "---"
   ]
  },
  {
   "cell_type": "markdown",
   "metadata": {},
   "source": [
    "### Model 1\n",
    "model=Sequential()   \n",
    "model.add(Convolution3D(10, 3, 3, 3, input_shape=(16, 16, 16,1), border_mode='valid', activation='relu'))   \n",
    "model.add(Flatten())   \n",
    "model.add(Dense(100, init='uniform', activation='tanh'))   \n",
    "model.add(Dense(2, init='uniform', activation='tanh'))   \n",
    "#model.add(MaxPooling3D(pool_size=(2,2,2),strides=None, border_mode='valid', dim_ordering='default'))   \n",
    "\n",
    "model.compile(loss='binary_crossentropy', optimizer='adam', metrics=['accuracy'])   \n",
    "history=model.fit(X, y_binary, nb_epoch=500, **batch_size=10**,verbose=0)"
   ]
  },
  {
   "cell_type": "markdown",
   "metadata": {},
   "source": [
    "---"
   ]
  },
  {
   "cell_type": "markdown",
   "metadata": {},
   "source": [
    "### Model 2\n",
    "model=Sequential()   \n",
    "model.add(Convolution3D(10, 3, 3, 3, input_shape=(16, 16, 16,1), border_mode='valid', activation='relu'))   \n",
    "**model.add(MaxPooling3D(pool_size=(2, 2, 2)))**   \n",
    "model.add(Flatten())   \n",
    "model.add(Dense(100, init='uniform', activation='tanh'))   \n",
    "model.add(Dense(2, init='uniform', activation='tanh'))   \n",
    "\n",
    "model.compile(loss='binary_crossentropy', optimizer='adam', metrics=['accuracy'])"
   ]
  },
  {
   "cell_type": "markdown",
   "metadata": {},
   "source": [
    "---"
   ]
  },
  {
   "cell_type": "markdown",
   "metadata": {},
   "source": [
    "### Model 3\n",
    "model=Sequential()   \n",
    "model.add(Convolution3D(10, 3, 3, 3, input_shape=(16, 16, 16,1), border_mode='valid', activation='relu'))   \n",
    "**model.add(MaxPooling3D(pool_size=(2, 2, 2)))   \n",
    "model.add(Convolution3D(10, 3, 3, 3, input_shape=(16, 16, 16,1), border_mode='valid', activation='relu'))**   \n",
    "model.add(Flatten())   \n",
    "model.add(Dense(100, init='uniform', activation='tanh'))   \n",
    "model.add(Dense(2, init='uniform', activation='tanh'))   \n",
    "\n",
    "model.compile(loss='binary_crossentropy', optimizer='adam', metrics=['accuracy'])"
   ]
  },
  {
   "cell_type": "markdown",
   "metadata": {},
   "source": [
    "---"
   ]
  },
  {
   "cell_type": "markdown",
   "metadata": {
    "collapsed": true
   },
   "source": [
    "### Model 4\n",
    "model=Sequential()   \n",
    "model.add(Convolution3D(10, 3, 3, 3, input_shape=(16, 16, 16,1), border_mode='valid', activation='relu'))   \n",
    "**model.add(MaxPooling3D(pool_size=(2, 2, 2)))   \n",
    "model.add(Convolution3D(10, 3, 3, 3, input_shape=(16, 16, 16,1), border_mode='valid', activation='relu'))   \n",
    "model.add(MaxPooling3D(pool_size=(2, 2, 2)))**   \n",
    "model.add(Flatten())   \n",
    "model.add(Dense(100, init='uniform', activation='tanh'))   \n",
    "model.add(Dense(2, init='uniform', activation='tanh'))   \n",
    "model.compile(loss='binary_crossentropy', optimizer='adam', metrics=['accuracy'])   "
   ]
  },
  {
   "cell_type": "markdown",
   "metadata": {},
   "source": [
    "---"
   ]
  },
  {
   "cell_type": "markdown",
   "metadata": {
    "collapsed": true
   },
   "source": [
    "### Model 5\n",
    "model=Sequential()   \n",
    "model.add(Convolution3D(10, 3, 3, 3, input_shape=(16, 16, 16,1), border_mode='valid', activation='relu'))   \n",
    "**model.add(Dropout(0.2))**   \n",
    "model.add(Convolution3D(10, 3, 3, 3, border_mode='valid', activation='relu'))   \n",
    "model.add(MaxPooling3D(pool_size=(2, 2, 2)))   \n",
    "model.add(Flatten())   \n",
    "model.add(Dense(100, init='uniform', activation='tanh'))   \n",
    "model.add(Dense(2, init='uniform', activation='tanh'))   \n",
    "model.compile(loss='binary_crossentropy', optimizer='adam', metrics=['accuracy'])   "
   ]
  },
  {
   "cell_type": "markdown",
   "metadata": {},
   "source": [
    "---"
   ]
  },
  {
   "cell_type": "markdown",
   "metadata": {
    "collapsed": true
   },
   "source": [
    "### Model 6\n",
    "model=Sequential()   \n",
    "model.add(Convolution3D(10, 3, 3, 3, input_shape=(16, 16, 16,1), border_mode='valid', activation='relu'))   \n",
    "model.add(Flatten())   \n",
    "model.add(Dense(100, init='uniform', activation='tanh'))   \n",
    "model.add(Dense(2, init='uniform', activation='tanh'))   \n",
    "model.compile(loss='binary_crossentropy', optimizer='adam', metrics=['accuracy'])"
   ]
  },
  {
   "cell_type": "markdown",
   "metadata": {},
   "source": [
    "---"
   ]
  },
  {
   "cell_type": "markdown",
   "metadata": {
    "collapsed": true
   },
   "source": [
    "### Model 7\n",
    "#### Number of kernels\n",
    "model=Sequential()   \n",
    "model.add(Convolution3D(**32**, 3, 3, 3, input_shape=(16, 16, 16,1), border_mode='valid', activation='relu'))   \n",
    "model.add(Flatten())   \n",
    "model.add(Dense(100, init='uniform', activation='tanh'))   \n",
    "model.add(Dense(2, init='uniform', activation='tanh'))   \n",
    "model.compile(loss='binary_crossentropy', optimizer='adam', metrics=['accuracy'])"
   ]
  },
  {
   "cell_type": "markdown",
   "metadata": {},
   "source": [
    "---"
   ]
  },
  {
   "cell_type": "markdown",
   "metadata": {
    "collapsed": true
   },
   "source": [
    "### Model 8   \n",
    "model=Sequential()   \n",
    "model.add(Convolution3D(10, 3, 3, 3, input_shape=(16, 16, 16,1), border_mode='valid', activation='relu'))   \n",
    "model.add(MaxPooling3D(**pool_size=(4, 4, 4)**))     \n",
    "model.add(Convolution3D(10, 3, 3, 3, border_mode='valid', activation='relu'))   \n",
    "model.add(Flatten())   \n",
    "model.add(Dense(100, init='uniform', activation='tanh'))   \n",
    "model.add(Dense(2, init='uniform', activation='tanh'))   \n",
    "model.compile(loss='binary_crossentropy', optimizer='adam', metrics=['accuracy'])   "
   ]
  },
  {
   "cell_type": "markdown",
   "metadata": {},
   "source": [
    "---"
   ]
  },
  {
   "cell_type": "markdown",
   "metadata": {},
   "source": [
    "### Model 9   \n",
    "model=Sequential()   \n",
    "model.add(Convolution3D(10, 3, 3, 3, input_shape=(16, 16, 16,1), border_mode='valid', activation='relu'))   \n",
    "**model.add(Convolution3D(10, 3, 3, 3, border_mode='valid', activation='relu'))**   \n",
    "model.add(Flatten())   \n",
    "model.add(Dense(100, init='uniform', activation='tanh'))   \n",
    "model.add(Dense(2, init='uniform', activation='tanh'))   \n",
    "model.compile(loss='binary_crossentropy', optimizer='adam', metrics=['accuracy'])   "
   ]
  },
  {
   "cell_type": "markdown",
   "metadata": {},
   "source": [
    "---"
   ]
  },
  {
   "cell_type": "markdown",
   "metadata": {
    "collapsed": true
   },
   "source": [
    "### Model 10   \n",
    "model=Sequential()   \n",
    "model.add(Convolution3D(10, 3, 3, 3, input_shape=(16, 16, 16,1), border_mode='valid', activation='relu'))   \n",
    "**model.add(Convolution3D(10, 3, 3, 3, border_mode='valid', activation='relu'))**   \n",
    "model.add(Flatten())   \n",
    "model.add(Dense(100, init='uniform', activation='tanh'))   \n",
    "model.add(Dense(2, init='uniform', activation='tanh'))   \n",
    "model.compile(loss='binary_crossentropy', optimizer='adam', metrics=['accuracy'])   \n",
    "history=model.fit(X, y_binary, nb_epoch=500, **batch_size=32**,verbose=0)"
   ]
  },
  {
   "cell_type": "markdown",
   "metadata": {},
   "source": [
    "---"
   ]
  },
  {
   "cell_type": "markdown",
   "metadata": {
    "collapsed": true
   },
   "source": [
    "### Model 11   \n",
    "model=Sequential()   \n",
    "model.add(Convolution3D(10, 3, 3, 3, input_shape=(16, 16, 16,1), border_mode='valid', activation='relu'))   \n",
    "**model.add(Convolution3D(10, 3, 3, 3, border_mode='valid', activation='relu'))**   \n",
    "model.add(Flatten())   \n",
    "model.add(Dense(100, init='uniform', activation='tanh'))   \n",
    "model.add(Dense(2, init='uniform', activation='tanh'))   \n",
    "model.compile(loss='binary_crossentropy', optimizer='adam', metrics=['accuracy'])   \n",
    "history=model.fit(X, y_binary, nb_epoch=500, **batch_size=4**,verbose=0)"
   ]
  },
  {
   "cell_type": "markdown",
   "metadata": {},
   "source": [
    "---"
   ]
  },
  {
   "cell_type": "markdown",
   "metadata": {
    "collapsed": true
   },
   "source": [
    "### Model 12   \n",
    "### Demean data\n",
    "model=Sequential()   \n",
    "model.add(Convolution3D(10, 3, 3, 3, input_shape=(16, 16, 16,1), border_mode='valid', activation='relu'))   \n",
    "**model.add(Convolution3D(10, 3, 3, 3, border_mode='valid', activation='relu'))**   \n",
    "model.add(Flatten())   \n",
    "model.add(Dense(100, init='uniform', activation='tanh'))   \n",
    "model.add(Dense(2, init='uniform', activation='tanh'))   \n",
    "model.compile(loss='binary_crossentropy', optimizer='adam', metrics=['accuracy'])   \n",
    "history=model.fit(X, y_binary, nb_epoch=500, **batch_size=4**,verbose=0)"
   ]
  },
  {
   "cell_type": "markdown",
   "metadata": {},
   "source": [
    "---"
   ]
  },
  {
   "cell_type": "markdown",
   "metadata": {
    "collapsed": true
   },
   "source": [
    "### Model 13   \n",
    "### Demean data\n",
    "model=Sequential()   \n",
    "model.add(Convolution3D(10, 3, 3, 3, input_shape=(16, 16, 16,1), border_mode='valid', activation='relu'))   \n",
    "model.add(Flatten())   \n",
    "model.add(Dense(100, init='uniform', activation='tanh'))   \n",
    "model.add(Dense(2, init='uniform', activation='tanh'))   \n",
    "model.compile(loss='binary_crossentropy', optimizer='adam', metrics=['accuracy'])   \n",
    "history=model.fit(X, y_binary, nb_epoch=500, **batch_size=10**,verbose=0)"
   ]
  },
  {
   "cell_type": "code",
   "execution_count": null,
   "metadata": {
    "collapsed": true
   },
   "outputs": [],
   "source": []
  }
 ],
 "metadata": {
  "kernelspec": {
   "display_name": "Python 2",
   "language": "python",
   "name": "python2"
  },
  "language_info": {
   "codemirror_mode": {
    "name": "ipython",
    "version": 2
   },
   "file_extension": ".py",
   "mimetype": "text/x-python",
   "name": "python",
   "nbconvert_exporter": "python",
   "pygments_lexer": "ipython2",
   "version": "2.7.12"
  }
 },
 "nbformat": 4,
 "nbformat_minor": 0
}
